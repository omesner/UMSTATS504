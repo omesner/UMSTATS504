{
 "cells": [
  {
   "cell_type": "markdown",
   "id": "recognized-armstrong",
   "metadata": {
    "slideshow": {
     "slide_type": "slide"
    }
   },
   "source": [
    "## Stats 504: Practice and Communication in Applied Statistics\n",
    "\n",
    "Overall goal: Prepare students to provide master-level statistical support for collaborative, interdisciplinary work and research\n",
    "\n",
    "- Communicating statistics with non-statistical experts\n",
    "- Understanding statistical theory and limitations\n",
    "- Data formatting and statistical programming\n",
    "- Clear, effective writing\n",
    "- Using graphics to communicate ideas"
   ]
  },
  {
   "cell_type": "markdown",
   "id": "valid-craps",
   "metadata": {
    "slideshow": {
     "slide_type": "slide"
    }
   },
   "source": [
    "## About me\n",
    "- Worked as a master-level biostatistician for 5 years in HIV/STI research\n",
    "- Joint PhD at Carnegie Mellon University in Engineering & Public Policy and in Statistics & Data Science\n",
    "- Thesis topic on non-parametric causal discovery and sexually transmitted infection prevention\n",
    "- At UM, I'm working in the network statistics research group\n",
    "- In my experience, there was a big jump from me doing my MS in biostats to work\n",
    " - 60% data formatting and cleaning\n",
    " - Collaborators expected me to also be an expert in HIV/STI, present at conferences\n",
    " - Needed to use methods I never learned before\n",
    " - Communicate statistical material with non-statistical experts\n",
    " - Gave me some real-world statistical background before my PhD"
   ]
  },
  {
   "cell_type": "markdown",
   "id": "suburban-sigma",
   "metadata": {
    "slideshow": {
     "slide_type": "slide"
    }
   },
   "source": [
    "## Course Layout\n",
    "- On the job, you will normally be given a problem and you will need to decide which tools to use\n",
    "- Need to have a \"large\" toolbox\n",
    "- Need to communicate what a tool does, how it work, how it meets the needs of the client\n",
    "- Case studies/data illustrate methods here\n",
    "    - research question\n",
    "    - dataset\n",
    "    - methodology and theory\n",
    "    - Reproducible code\n",
    "- Homework\n",
    "    - attempts to simulate work experience\n",
    "    - 2-3 page, well-written memo of finding for non-statistical audience\n",
    " - Layout:\n",
    "     - Intro: Introduce topic, explain problem, what you are going to do\n",
    "     - Methods: explain methodology, and how it achieves stated goals\n",
    "     - Explain data and results\n",
    "     - Conclusion: how do these results answer question\n",
    "     - Appendix: reproducible code (rmarkdown or jupyter notebook)\n",
    " - [Writing tips](http://dept.stat.lsa.umich.edu/~kshedden/stats504/topics/writing_tips/)\n",
    " - Reproducible code makes your work more transparent to others.  You will be required to submit your reproducible code: [Rmarkdown](https://rmarkdown.rstudio.com), [Jupyter notebook](https://jupyter.org)\n",
    " - [Jupyter notebook tutorial](https://www.dataquest.io/blog/jupyter-notebook-tutorial/), [Rmarkdown tutorial](https://r4ds.had.co.nz/r-markdown.html)\n",
    "- Course code will be in either python3 or R\n",
    "- Assignments will be given every two weeks and collected two weeks after issued\n",
    "- Assignments will be assess on writing quality, clarity, reproducible code, statistical correctness\n",
    "- During class:\n",
    "   - Lecture notes will be presented in Jupyter Notebook or Rmarkdown\n",
    "   - You are encouraged to speak up with comments or questions\n",
    "   - [iClicker](https://www.iclicker.com) mobile app to survey class in-person and remote\n",
    "- Homework, lecture notes over canvas\n",
    "- Piazza: piazza.com/umich/fall2021/stats504\n",
    "- All lecture notes on Github https://github.com/omesner/UMSTATS504\n",
    "- Course Survey"
   ]
  },
  {
   "cell_type": "markdown",
   "id": "remarkable-defendant",
   "metadata": {
    "slideshow": {
     "slide_type": "slide"
    }
   },
   "source": [
    "### COVID and attendance\n",
    "\n",
    "- We all need to fill out the [ResponsiBlue](https://responsiblue.umich.edu/home) COVID-19 Screening Check every day we come to campus (university policy)\n",
    "- Masks are required indoors everywhere (university policy)\n",
    "- Social distancing is not required (university policy)\n",
    "- As of 8/27 92% students, 89% faculty, 73% staff confirmed fully vaccinated\n",
    "- If you are feeling sick, it is important to stay home to rest and limit the spread of infection\n",
    "    - Live lectures will be available on zoom at https://umich.zoom.us/j/93116796505 with passcode 504\n",
    "    - Would recording lectures be helpful?\n",
    "- If you are not sick, you strongly encouraged to attend class in person\n",
    "    - It is easier to stay engaged and ask questions in person\n",
    "    - COVID vaccination is required for everyone on campus with limited exemptions\n",
    "    - We will follow university policy on wearing masks"
   ]
  },
  {
   "cell_type": "markdown",
   "id": "radio-english",
   "metadata": {
    "slideshow": {
     "slide_type": "slide"
    }
   },
   "source": [
    "### Student Well-Being\n",
    "\n",
    "- Experiencing some amount of stress during graduate school is normal\n",
    "- Too much stress can impact academic performance and personal well-being\n",
    "- In academia, evaluation is necessary but also a significant source of stress for many\n",
    "- In this course, we will be evaluating your writing quality, code, graphics, and tables\n",
    "- Reading critiques can be difficult but are meant to help develop professional skills\n",
    "- My goal is to develop your skills\n",
    "- I want to be aware of the time assignments take\n",
    "- I want your feedback\n",
    "- Generally, if you are experiencing concerns related to this course or otherwise, please contact me (omesner@umich.edu) so that we can work on solutions\n",
    "- Other [resources for student well-being](https://wellbeing.studentlife.umich.edu/resources-list)"
   ]
  },
  {
   "cell_type": "markdown",
   "id": "altered-lover",
   "metadata": {
    "slideshow": {
     "slide_type": "slide"
    }
   },
   "source": [
    "## Cyclist Crossing the Brooklyn Bridge\n",
    "- Scenario: New York Bicycling Coalition wants to better understand the effect of weather and time on cycling in the city\n",
    "- The dataset below gives the number of bikes that cross the Brooklyn Bridge each day between 1 April 2017 and 31 October 2017\n",
    "- We want to understand which variables are associated with the number of crossings\n",
    "- This lecture is in python but some will be in R as well\n",
    "- It's ok if you're not familiar with python or shell command\n",
    "- We will be using the following modules in python3\n",
    " - Note: the percent sign (%) in jupyter lets us run shell commands"
   ]
  },
  {
   "cell_type": "code",
   "execution_count": 23,
   "id": "infinite-boxing",
   "metadata": {
    "slideshow": {
     "slide_type": "subslide"
    }
   },
   "outputs": [],
   "source": [
    "%%capture\n",
    "%pip install pandas\n",
    "%pip install statsmodels\n",
    "%pip install numpy\n",
    "%pip install matplotlib"
   ]
  },
  {
   "cell_type": "markdown",
   "id": "color-karaoke",
   "metadata": {
    "slideshow": {
     "slide_type": "slide"
    }
   },
   "source": [
    "Above: you can remove suppress unhelpful output in Jupyter notebook with `%%capture`\n",
    "\n",
    "Below: importing the following modules"
   ]
  },
  {
   "cell_type": "code",
   "execution_count": 24,
   "id": "olive-deadline",
   "metadata": {
    "scrolled": true,
    "slideshow": {
     "slide_type": "slide"
    }
   },
   "outputs": [],
   "source": [
    "import pandas as pd\n",
    "import numpy as np\n",
    "import statsmodels.api as sm\n",
    "from statsmodels.graphics.api import abline_plot\n",
    "import matplotlib.pyplot as plt\n",
    "import calendar"
   ]
  },
  {
   "cell_type": "markdown",
   "id": "trying-stake",
   "metadata": {
    "slideshow": {
     "slide_type": "slide"
    }
   },
   "source": [
    "First several lines of data file"
   ]
  },
  {
   "cell_type": "code",
   "execution_count": 25,
   "id": "applicable-trauma",
   "metadata": {
    "slideshow": {
     "slide_type": "subslide"
    }
   },
   "outputs": [
    {
     "name": "stdout",
     "output_type": "stream",
     "text": [
      "Date,HIGH_T,LOW_T,PRECIP,BB_COUNT\n",
      "\n",
      "1-Apr-17,46.00,37.00,0.00,606\n",
      "\n",
      "2-Apr-17,62.10,41.00,0.00,2021\n",
      "\n",
      "3-Apr-17,63.00,50.00,0.03,2470\n",
      "\n",
      "4-Apr-17,51.10,46.00,1.18,723\n",
      "\n",
      "5-Apr-17,63.00,46.00,0.00,2807\n",
      "\n"
     ]
    }
   ],
   "source": [
    "file = open('bike.csv')\n",
    "for _ in range(6):\n",
    "    print(file.readline())"
   ]
  },
  {
   "cell_type": "markdown",
   "id": "electronic-casting",
   "metadata": {
    "slideshow": {
     "slide_type": "slide"
    }
   },
   "source": [
    "read in data and get month, day of week, and day from date"
   ]
  },
  {
   "cell_type": "code",
   "execution_count": 26,
   "id": "british-transformation",
   "metadata": {
    "scrolled": true,
    "slideshow": {
     "slide_type": "subslide"
    }
   },
   "outputs": [],
   "source": [
    "df = pd.read_csv('bike.csv', header=0, infer_datetime_format=True, \n",
    "                 parse_dates=[0], index_col=[0])\n",
    "ds = df.index.to_series()\n",
    "df['MONTH'] = ds.dt.month\n",
    "df['DAY_OF_WEEK'] = ds.dt.dayofweek\n",
    "df['DAY'] = ds.dt.day\n",
    "df['WEEKEND'] = df['DAY_OF_WEEK'].apply(lambda x: x in [5,6])*1 \n",
    "# checked the 2017 calendar"
   ]
  },
  {
   "cell_type": "markdown",
   "id": "checked-stability",
   "metadata": {
    "slideshow": {
     "slide_type": "slide"
    }
   },
   "source": [
    "Visually inspecting data"
   ]
  },
  {
   "cell_type": "code",
   "execution_count": 27,
   "id": "prescription-gauge",
   "metadata": {
    "scrolled": true,
    "slideshow": {
     "slide_type": "subslide"
    }
   },
   "outputs": [
    {
     "data": {
      "text/html": [
       "<div>\n",
       "<style scoped>\n",
       "    .dataframe tbody tr th:only-of-type {\n",
       "        vertical-align: middle;\n",
       "    }\n",
       "\n",
       "    .dataframe tbody tr th {\n",
       "        vertical-align: top;\n",
       "    }\n",
       "\n",
       "    .dataframe thead th {\n",
       "        text-align: right;\n",
       "    }\n",
       "</style>\n",
       "<table border=\"1\" class=\"dataframe\">\n",
       "  <thead>\n",
       "    <tr style=\"text-align: right;\">\n",
       "      <th></th>\n",
       "      <th>HIGH_T</th>\n",
       "      <th>LOW_T</th>\n",
       "      <th>PRECIP</th>\n",
       "      <th>BB_COUNT</th>\n",
       "      <th>MONTH</th>\n",
       "      <th>DAY_OF_WEEK</th>\n",
       "      <th>DAY</th>\n",
       "      <th>WEEKEND</th>\n",
       "    </tr>\n",
       "    <tr>\n",
       "      <th>Date</th>\n",
       "      <th></th>\n",
       "      <th></th>\n",
       "      <th></th>\n",
       "      <th></th>\n",
       "      <th></th>\n",
       "      <th></th>\n",
       "      <th></th>\n",
       "      <th></th>\n",
       "    </tr>\n",
       "  </thead>\n",
       "  <tbody>\n",
       "    <tr>\n",
       "      <th>2017-04-01</th>\n",
       "      <td>46.0</td>\n",
       "      <td>37.0</td>\n",
       "      <td>0.00</td>\n",
       "      <td>606</td>\n",
       "      <td>4</td>\n",
       "      <td>5</td>\n",
       "      <td>1</td>\n",
       "      <td>1</td>\n",
       "    </tr>\n",
       "    <tr>\n",
       "      <th>2017-04-02</th>\n",
       "      <td>62.1</td>\n",
       "      <td>41.0</td>\n",
       "      <td>0.00</td>\n",
       "      <td>2021</td>\n",
       "      <td>4</td>\n",
       "      <td>6</td>\n",
       "      <td>2</td>\n",
       "      <td>1</td>\n",
       "    </tr>\n",
       "    <tr>\n",
       "      <th>2017-04-03</th>\n",
       "      <td>63.0</td>\n",
       "      <td>50.0</td>\n",
       "      <td>0.03</td>\n",
       "      <td>2470</td>\n",
       "      <td>4</td>\n",
       "      <td>0</td>\n",
       "      <td>3</td>\n",
       "      <td>0</td>\n",
       "    </tr>\n",
       "    <tr>\n",
       "      <th>2017-04-04</th>\n",
       "      <td>51.1</td>\n",
       "      <td>46.0</td>\n",
       "      <td>1.18</td>\n",
       "      <td>723</td>\n",
       "      <td>4</td>\n",
       "      <td>1</td>\n",
       "      <td>4</td>\n",
       "      <td>0</td>\n",
       "    </tr>\n",
       "    <tr>\n",
       "      <th>2017-04-05</th>\n",
       "      <td>63.0</td>\n",
       "      <td>46.0</td>\n",
       "      <td>0.00</td>\n",
       "      <td>2807</td>\n",
       "      <td>4</td>\n",
       "      <td>2</td>\n",
       "      <td>5</td>\n",
       "      <td>0</td>\n",
       "    </tr>\n",
       "    <tr>\n",
       "      <th>2017-04-06</th>\n",
       "      <td>48.9</td>\n",
       "      <td>41.0</td>\n",
       "      <td>0.73</td>\n",
       "      <td>461</td>\n",
       "      <td>4</td>\n",
       "      <td>3</td>\n",
       "      <td>6</td>\n",
       "      <td>0</td>\n",
       "    </tr>\n",
       "    <tr>\n",
       "      <th>2017-04-07</th>\n",
       "      <td>48.0</td>\n",
       "      <td>43.0</td>\n",
       "      <td>0.01</td>\n",
       "      <td>1222</td>\n",
       "      <td>4</td>\n",
       "      <td>4</td>\n",
       "      <td>7</td>\n",
       "      <td>0</td>\n",
       "    </tr>\n",
       "    <tr>\n",
       "      <th>2017-04-08</th>\n",
       "      <td>55.9</td>\n",
       "      <td>39.9</td>\n",
       "      <td>0.00</td>\n",
       "      <td>1674</td>\n",
       "      <td>4</td>\n",
       "      <td>5</td>\n",
       "      <td>8</td>\n",
       "      <td>1</td>\n",
       "    </tr>\n",
       "    <tr>\n",
       "      <th>2017-04-09</th>\n",
       "      <td>66.0</td>\n",
       "      <td>45.0</td>\n",
       "      <td>0.00</td>\n",
       "      <td>2375</td>\n",
       "      <td>4</td>\n",
       "      <td>6</td>\n",
       "      <td>9</td>\n",
       "      <td>1</td>\n",
       "    </tr>\n",
       "    <tr>\n",
       "      <th>2017-04-10</th>\n",
       "      <td>73.9</td>\n",
       "      <td>55.0</td>\n",
       "      <td>0.00</td>\n",
       "      <td>3324</td>\n",
       "      <td>4</td>\n",
       "      <td>0</td>\n",
       "      <td>10</td>\n",
       "      <td>0</td>\n",
       "    </tr>\n",
       "  </tbody>\n",
       "</table>\n",
       "</div>"
      ],
      "text/plain": [
       "            HIGH_T  LOW_T  PRECIP  BB_COUNT  MONTH  DAY_OF_WEEK  DAY  WEEKEND\n",
       "Date                                                                         \n",
       "2017-04-01    46.0   37.0    0.00       606      4            5    1        1\n",
       "2017-04-02    62.1   41.0    0.00      2021      4            6    2        1\n",
       "2017-04-03    63.0   50.0    0.03      2470      4            0    3        0\n",
       "2017-04-04    51.1   46.0    1.18       723      4            1    4        0\n",
       "2017-04-05    63.0   46.0    0.00      2807      4            2    5        0\n",
       "2017-04-06    48.9   41.0    0.73       461      4            3    6        0\n",
       "2017-04-07    48.0   43.0    0.01      1222      4            4    7        0\n",
       "2017-04-08    55.9   39.9    0.00      1674      4            5    8        1\n",
       "2017-04-09    66.0   45.0    0.00      2375      4            6    9        1\n",
       "2017-04-10    73.9   55.0    0.00      3324      4            0   10        0"
      ]
     },
     "execution_count": 27,
     "metadata": {},
     "output_type": "execute_result"
    }
   ],
   "source": [
    "df.head(10)"
   ]
  },
  {
   "cell_type": "markdown",
   "id": "prompt-rochester",
   "metadata": {
    "slideshow": {
     "slide_type": "slide"
    }
   },
   "source": [
    "Size of dataset: (rows, columns)"
   ]
  },
  {
   "cell_type": "code",
   "execution_count": 28,
   "id": "outstanding-queen",
   "metadata": {
    "scrolled": true,
    "slideshow": {
     "slide_type": "subslide"
    }
   },
   "outputs": [
    {
     "data": {
      "text/plain": [
       "(214, 8)"
      ]
     },
     "execution_count": 28,
     "metadata": {},
     "output_type": "execute_result"
    }
   ],
   "source": [
    "df.shape"
   ]
  },
  {
   "cell_type": "markdown",
   "id": "extraordinary-arctic",
   "metadata": {
    "slideshow": {
     "slide_type": "slide"
    }
   },
   "source": [
    "- Show the number of missing variables\n",
    "- show means and st dev\n",
    "- overall order statistics\n",
    "- Frequently, applied papers will want to see a table giving mean (st dev) or medians (IQR)"
   ]
  },
  {
   "cell_type": "code",
   "execution_count": 29,
   "id": "hungry-profit",
   "metadata": {
    "scrolled": true,
    "slideshow": {
     "slide_type": "subslide"
    }
   },
   "outputs": [
    {
     "data": {
      "text/html": [
       "<div>\n",
       "<style scoped>\n",
       "    .dataframe tbody tr th:only-of-type {\n",
       "        vertical-align: middle;\n",
       "    }\n",
       "\n",
       "    .dataframe tbody tr th {\n",
       "        vertical-align: top;\n",
       "    }\n",
       "\n",
       "    .dataframe thead th {\n",
       "        text-align: right;\n",
       "    }\n",
       "</style>\n",
       "<table border=\"1\" class=\"dataframe\">\n",
       "  <thead>\n",
       "    <tr style=\"text-align: right;\">\n",
       "      <th></th>\n",
       "      <th>HIGH_T</th>\n",
       "      <th>LOW_T</th>\n",
       "      <th>PRECIP</th>\n",
       "      <th>BB_COUNT</th>\n",
       "      <th>MONTH</th>\n",
       "      <th>DAY_OF_WEEK</th>\n",
       "      <th>DAY</th>\n",
       "      <th>WEEKEND</th>\n",
       "    </tr>\n",
       "  </thead>\n",
       "  <tbody>\n",
       "    <tr>\n",
       "      <th>count</th>\n",
       "      <td>214.000000</td>\n",
       "      <td>214.000000</td>\n",
       "      <td>214.000000</td>\n",
       "      <td>214.000000</td>\n",
       "      <td>214.000000</td>\n",
       "      <td>214.000000</td>\n",
       "      <td>214.000000</td>\n",
       "      <td>214.000000</td>\n",
       "    </tr>\n",
       "    <tr>\n",
       "      <th>mean</th>\n",
       "      <td>74.201869</td>\n",
       "      <td>62.027103</td>\n",
       "      <td>0.132430</td>\n",
       "      <td>2680.042056</td>\n",
       "      <td>7.009346</td>\n",
       "      <td>3.000000</td>\n",
       "      <td>15.789720</td>\n",
       "      <td>0.289720</td>\n",
       "    </tr>\n",
       "    <tr>\n",
       "      <th>std</th>\n",
       "      <td>10.390443</td>\n",
       "      <td>9.305792</td>\n",
       "      <td>0.394004</td>\n",
       "      <td>854.710864</td>\n",
       "      <td>2.002324</td>\n",
       "      <td>2.016365</td>\n",
       "      <td>8.848102</td>\n",
       "      <td>0.454696</td>\n",
       "    </tr>\n",
       "    <tr>\n",
       "      <th>min</th>\n",
       "      <td>46.000000</td>\n",
       "      <td>37.000000</td>\n",
       "      <td>0.000000</td>\n",
       "      <td>151.000000</td>\n",
       "      <td>4.000000</td>\n",
       "      <td>0.000000</td>\n",
       "      <td>1.000000</td>\n",
       "      <td>0.000000</td>\n",
       "    </tr>\n",
       "    <tr>\n",
       "      <th>25%</th>\n",
       "      <td>66.900000</td>\n",
       "      <td>55.225000</td>\n",
       "      <td>0.000000</td>\n",
       "      <td>2298.000000</td>\n",
       "      <td>5.000000</td>\n",
       "      <td>1.000000</td>\n",
       "      <td>8.000000</td>\n",
       "      <td>0.000000</td>\n",
       "    </tr>\n",
       "    <tr>\n",
       "      <th>50%</th>\n",
       "      <td>75.900000</td>\n",
       "      <td>64.000000</td>\n",
       "      <td>0.000000</td>\n",
       "      <td>2857.000000</td>\n",
       "      <td>7.000000</td>\n",
       "      <td>3.000000</td>\n",
       "      <td>16.000000</td>\n",
       "      <td>0.000000</td>\n",
       "    </tr>\n",
       "    <tr>\n",
       "      <th>75%</th>\n",
       "      <td>82.000000</td>\n",
       "      <td>70.000000</td>\n",
       "      <td>0.037500</td>\n",
       "      <td>3285.000000</td>\n",
       "      <td>9.000000</td>\n",
       "      <td>5.000000</td>\n",
       "      <td>23.000000</td>\n",
       "      <td>1.000000</td>\n",
       "    </tr>\n",
       "    <tr>\n",
       "      <th>max</th>\n",
       "      <td>93.900000</td>\n",
       "      <td>78.100000</td>\n",
       "      <td>3.030000</td>\n",
       "      <td>4960.000000</td>\n",
       "      <td>10.000000</td>\n",
       "      <td>6.000000</td>\n",
       "      <td>31.000000</td>\n",
       "      <td>1.000000</td>\n",
       "    </tr>\n",
       "  </tbody>\n",
       "</table>\n",
       "</div>"
      ],
      "text/plain": [
       "           HIGH_T       LOW_T      PRECIP     BB_COUNT       MONTH  \\\n",
       "count  214.000000  214.000000  214.000000   214.000000  214.000000   \n",
       "mean    74.201869   62.027103    0.132430  2680.042056    7.009346   \n",
       "std     10.390443    9.305792    0.394004   854.710864    2.002324   \n",
       "min     46.000000   37.000000    0.000000   151.000000    4.000000   \n",
       "25%     66.900000   55.225000    0.000000  2298.000000    5.000000   \n",
       "50%     75.900000   64.000000    0.000000  2857.000000    7.000000   \n",
       "75%     82.000000   70.000000    0.037500  3285.000000    9.000000   \n",
       "max     93.900000   78.100000    3.030000  4960.000000   10.000000   \n",
       "\n",
       "       DAY_OF_WEEK         DAY     WEEKEND  \n",
       "count   214.000000  214.000000  214.000000  \n",
       "mean      3.000000   15.789720    0.289720  \n",
       "std       2.016365    8.848102    0.454696  \n",
       "min       0.000000    1.000000    0.000000  \n",
       "25%       1.000000    8.000000    0.000000  \n",
       "50%       3.000000   16.000000    0.000000  \n",
       "75%       5.000000   23.000000    1.000000  \n",
       "max       6.000000   31.000000    1.000000  "
      ]
     },
     "execution_count": 29,
     "metadata": {},
     "output_type": "execute_result"
    }
   ],
   "source": [
    "df.describe()"
   ]
  },
  {
   "cell_type": "markdown",
   "id": "irish-somalia",
   "metadata": {},
   "source": [
    "#### Visual variable distributions\n",
    "- Consider kinds of variables in the data\n",
    "- Consider size of dataset (rows and columns)\n",
    "- Look for anything strange in the data"
   ]
  },
  {
   "cell_type": "code",
   "execution_count": 30,
   "id": "dried-afternoon",
   "metadata": {
    "scrolled": false
   },
   "outputs": [
    {
     "data": {
      "image/png": "[encoded data removed]",
      "text/plain": [
       "<Figure size 432x288 with 1 Axes>"
      ]
     },
     "metadata": {
      "needs_background": "light"
     },
     "output_type": "display_data"
    },
    {
     "data": {
      "image/png": "[encoded data removed]",
      "text/plain": [
       "<Figure size 432x288 with 1 Axes>"
      ]
     },
     "metadata": {
      "needs_background": "light"
     },
     "output_type": "display_data"
    },
    {
     "data": {
      "image/png": "[encoded data removed]",
      "text/plain": [
       "<Figure size 432x288 with 1 Axes>"
      ]
     },
     "metadata": {
      "needs_background": "light"
     },
     "output_type": "display_data"
    },
    {
     "data": {
      "image/png": "[encoded data removed]",
      "text/plain": [
       "<Figure size 432x288 with 1 Axes>"
      ]
     },
     "metadata": {
      "needs_background": "light"
     },
     "output_type": "display_data"
    },
    {
     "data": {
      "image/png": "[encoded data removed]",
      "text/plain": [
       "<Figure size 432x288 with 1 Axes>"
      ]
     },
     "metadata": {
      "needs_background": "light"
     },
     "output_type": "display_data"
    },
    {
     "data": {
      "image/png": "[encoded data removed]",
      "text/plain": [
       "<Figure size 432x288 with 1 Axes>"
      ]
     },
     "metadata": {
      "needs_background": "light"
     },
     "output_type": "display_data"
    },
    {
     "data": {
      "image/png": "[encoded data removed]",
      "text/plain": [
       "<Figure size 432x288 with 1 Axes>"
      ]
     },
     "metadata": {
      "needs_background": "light"
     },
     "output_type": "display_data"
    },
    {
     "data": {
      "image/png": "[encoded data removed]",
      "text/plain": [
       "<Figure size 432x288 with 1 Axes>"
      ]
     },
     "metadata": {
      "needs_background": "light"
     },
     "output_type": "display_data"
    }
   ],
   "source": [
    "%matplotlib inline\n",
    "df.columns\n",
    "for var in df.columns:\n",
    "    df.hist(column=var)"
   ]
  },
  {
   "cell_type": "markdown",
   "id": "dense-manhattan",
   "metadata": {},
   "source": [
    "#### scatter plots"
   ]
  },
  {
   "cell_type": "code",
   "execution_count": 31,
   "id": "periodic-labor",
   "metadata": {
    "scrolled": false
   },
   "outputs": [
    {
     "data": {
      "image/png": "[encoded data removed]",
      "text/plain": [
       "<Figure size 432x288 with 1 Axes>"
      ]
     },
     "metadata": {
      "needs_background": "light"
     },
     "output_type": "display_data"
    },
    {
     "data": {
      "image/png": "[encoded data removed]",
      "text/plain": [
       "<Figure size 432x288 with 1 Axes>"
      ]
     },
     "metadata": {
      "needs_background": "light"
     },
     "output_type": "display_data"
    },
    {
     "data": {
      "image/png": "[encoded data removed]",
      "text/plain": [
       "<Figure size 432x288 with 1 Axes>"
      ]
     },
     "metadata": {
      "needs_background": "light"
     },
     "output_type": "display_data"
    },
    {
     "data": {
      "image/png": "[encoded data removed]",
      "text/plain": [
       "<Figure size 432x288 with 1 Axes>"
      ]
     },
     "metadata": {
      "needs_background": "light"
     },
     "output_type": "display_data"
    },
    {
     "data": {
      "image/png": "[encoded data removed]",
      "text/plain": [
       "<Figure size 432x288 with 1 Axes>"
      ]
     },
     "metadata": {
      "needs_background": "light"
     },
     "output_type": "display_data"
    },
    {
     "data": {
      "image/png": "[encoded data removed]",
      "text/plain": [
       "<Figure size 432x288 with 1 Axes>"
      ]
     },
     "metadata": {
      "needs_background": "light"
     },
     "output_type": "display_data"
    },
    {
     "data": {
      "image/png": "[encoded data removed]",
      "text/plain": [
       "<Figure size 432x288 with 1 Axes>"
      ]
     },
     "metadata": {
      "needs_background": "light"
     },
     "output_type": "display_data"
    },
    {
     "data": {
      "image/png": "[encoded data removed]",
      "text/plain": [
       "<Figure size 432x288 with 1 Axes>"
      ]
     },
     "metadata": {
      "needs_background": "light"
     },
     "output_type": "display_data"
    }
   ],
   "source": [
    "for var in df.columns:\n",
    "    df.plot.scatter(x=var, y='BB_COUNT')"
   ]
  },
  {
   "cell_type": "markdown",
   "id": "earned-ribbon",
   "metadata": {},
   "source": [
    "- Converting numeric month to name\n",
    "- Including appropriate boxplots"
   ]
  },
  {
   "cell_type": "code",
   "execution_count": 32,
   "id": "black-sullivan",
   "metadata": {},
   "outputs": [
    {
     "data": {
      "image/png": "[encoded data removed]",
      "text/plain": [
       "<Figure size 432x288 with 1 Axes>"
      ]
     },
     "metadata": {
      "needs_background": "light"
     },
     "output_type": "display_data"
    },
    {
     "data": {
      "image/png": "[encoded data removed]",
      "text/plain": [
       "<Figure size 432x288 with 1 Axes>"
      ]
     },
     "metadata": {
      "needs_background": "light"
     },
     "output_type": "display_data"
    },
    {
     "data": {
      "image/png": "[encoded data removed]",
      "text/plain": [
       "<Figure size 432x288 with 1 Axes>"
      ]
     },
     "metadata": {
      "needs_background": "light"
     },
     "output_type": "display_data"
    }
   ],
   "source": [
    "df['MONTH'] = df['MONTH'].apply(lambda x: calendar.month_abbr[x])\n",
    "for var in ['MONTH', 'DAY_OF_WEEK', 'WEEKEND']:\n",
    "    df.boxplot(column='BB_COUNT', by=var)"
   ]
  },
  {
   "cell_type": "markdown",
   "id": "considerable-button",
   "metadata": {},
   "source": [
    "**Coding tip: DRY - Don't Repeat Yourself**"
   ]
  },
  {
   "cell_type": "markdown",
   "id": "equipped-mention",
   "metadata": {},
   "source": [
    "## Generalized Linear Models\n",
    "- Robust class of models that are frequently used in classical statistics\n",
    "\n",
    "\n",
    "- Models a function of conditional expectation as a linear function:\n",
    "$$g(E[Y|X=x])=\\beta_0+\\beta_1x_1+\\dots+\\beta_px_p$$\n",
    "\n",
    "\n",
    "- $g$ called a link function and should be invertible\n",
    "$$E[Y|X=x]=g^{-1}(\\beta_0+\\beta_1x_1+\\dots+\\beta_px_p)$$\n",
    "\n",
    "\n",
    "- Most common link functions are $g(x)=x$ and $g(x)=\\log(x)$\n",
    "\n",
    "\n",
    "- How is $g(E[Y|X=x])$ different from $E[g(Y)|X=x]$?\n",
    "\n",
    "\n",
    "- Two examples:\n",
    " * *Gaussian linear model:* \n",
    " * *Poisson log-linear mode:*\n",
    " \n",
    " \n",
    "- In general, which model to use depends on the distribution of $Y$\n",
    "\n",
    "\n",
    "- GLMs specify both conditional mean structure and conditional variance structure\n",
    "\n",
    "\n",
    "- example: $Y|X=x\\sim \\text{Poisson}(x)$ then $E[Y|X]=x$ and $\\text{Var}[Y|X]=x$\n",
    "\n",
    "\n",
    "- Can we use a Poisson model if $E[Y|X]\\neq\\text{Var}[Y|X]$ in data?  Yes\n",
    "\n",
    "\n",
    "- Overdispersion: $\\text{Var}[Y|X]=\\phi E[Y|X]$ for $\\phi\\geq 0$\n",
    " \n",
    " \n",
    "- In general, data does not need to be perfect to use a model\n",
    "\n",
    "\n",
    "- Common GLMs:\n",
    "    - Binomial (logistic)\n",
    "    - Poisson\n",
    "    - Negative Binomial\n",
    "    - Gaussian\n",
    " \n",
    " \n",
    "- Which model should we try for the bike count data?"
   ]
  },
  {
   "cell_type": "markdown",
   "id": "administrative-african",
   "metadata": {},
   "source": [
    "### Poisson Regression and Parameter Estimation\n",
    "- Random sample $(y_1, x_1), \\dots, (y_n, x_n)$\n",
    " * $x_i=[1, x_{i1}, \\dots, x_{ip}]$ where we include the 1 for the intercept\n",
    " \n",
    " \n",
    "- Recall the [Poisson distribution](https://en.wikipedia.org/wiki/Poisson_distribution) gives the probability of a given number of independent events occurring in a fixed space or time at a constant rate\n",
    "    - Example: number of calls received per hour at call center or number of people arriving at a restaurant\n",
    "    - PDF: $p(x) = \\frac{\\lambda^x}{x!}\\exp(-\\lambda)$\n",
    "    - Expected value: $E[X] = \\lambda$\n",
    "    \n",
    "    \n",
    "- Assume $\\log E[Y|X=x]=\\beta^T x$ so that $\\lambda = \\exp(\\beta^Tx)$\n",
    "and\n",
    "$$\\begin{align}\n",
    "p(y|x;\\beta)\n",
    "&=\\frac{\\lambda^y}{y!}\\exp(-\\lambda) \\\\\n",
    "&= \\frac{\\exp\\left(y\\beta^T x\\right)}{y!}\\exp\\left(-\\exp(\\beta^T x)\\right)\n",
    "\\end{align}$$\n",
    "\n",
    "\n",
    "- Want to estimate $\\beta$; use log-likelihood:\n",
    "$$\n",
    "\\begin{align}\n",
    "\\ell(\\beta) \n",
    "&= \\log\\left(\\prod_{i=1}^n p(y_i|x_i;\\beta)\\right) \\\\\n",
    "&= \\log\\left( \\prod_{i=1}^n \\frac{\\exp\\left(y_i\\beta^T x_i\\right)}{y!}\\exp\\left(-\\exp(\\beta^T x_i)\\right) \\right)\\\\\n",
    "&= \\sum_{i=1}^n \\left(y_i \\beta^T x_i - \\log(y_i!) -\\exp(\\beta^T x_i)\\right)\n",
    "\\end{align}\n",
    "$$\n",
    "\n",
    "\n",
    "##### Optimization\n",
    "\n",
    "- Want to find $\\beta^* = \\arg\\max_\\beta \\ell(\\beta)$\n",
    "\n",
    "\n",
    "- Remember that $\\log p \\leq 0$ because $p \\leq 1$\n",
    "    - Because $\\log x$ is monotonically increasing, so maximize $p$ if and only if maximize $\\log p$ ($\\log p \\leq 0$, trying to get close to zero)\n",
    "\n",
    "\n",
    "- Intuition: Set $\\frac{\\partial}{\\partial \\beta}\\ell(\\beta) =0$ and solve\n",
    "\n",
    "\n",
    "- Here $\\nabla\\ell(\\beta)=0$ is not simple to solve\n",
    "\n",
    "\n",
    "- Because $-\\nabla^2 \\ell(\\beta)$ [semi-positive definite](https://en.wikipedia.org/wiki/Definite_symmetric_matrix) matrix, we know that $-\\ell(\\beta)$ is a convex function\n",
    "\n",
    "<img src=\"./convex.png\" width=\"300\">\n",
    "\n",
    "\n",
    "We can use a convex optimization technique such as [gradient descent](https://en.wikipedia.org/wiki/Gradient_descent):\n",
    "\n",
    "\n",
    "   1. Calculate $\\nabla \\ell(b)$ where $b\\in\\mathbb{R}^{p+1}$\n",
    " $$\n",
    " \\nabla \\ell(b) = \\sum_{i=1}^n y_i x_i - x_i \\exp(b^T x_i)\n",
    " $$\n",
    " \n",
    " \n",
    "   2. Choose a starting point $b_0$ in the $\\mathbb{R}^{p+1}$ (the space where $\\beta$ is)\n",
    " \n",
    " \n",
    "   3. Choose a step size, $\\gamma$\n",
    " \n",
    " \n",
    "   4. Algorithm, step $j$:\n",
    "    $$b_{j+1} \\leftarrow b_j+\\gamma \\nabla\\ell(b_j)$$\n",
    " \n",
    " \n",
    "   5. Stop algorithm when $\\ell(b_j)\\geq \\ell(b_{j+1})$ \n",
    " \n",
    " \n",
    "   6. Set $\\beta \\leftarrow b_j$\n",
    " \n",
    " \n",
    " Note: It's more common to make $\\gamma$ decrease as the algorithm progresses\n",
    " \n",
    " <img src=\"./Gradient_descent.svg.png\" width=\"300\">\n",
    " \n",
    "Image from Wikipedia\n",
    "\n",
    "\n",
    "- Why not use [Newton-Raphson](https://en.wikipedia.org/wiki/Newton's_method)?\n",
    "\n",
    "\n",
    "- In step 4, why are we adding for gradient descent?\n"
   ]
  },
  {
   "cell_type": "markdown",
   "id": "decent-therapy",
   "metadata": {},
   "source": [
    "### Model fitting theory\n",
    "- To assess model fit, we typically compare the true outcome values, $y_i$, to the corresponding expected (fitted) values from the model, $\\hat \\mu_i$\n",
    "\n",
    "\n",
    "- In theory, the goal is to choose a model that accurately describes or predicts the data\n",
    "\n",
    "\n",
    "- Model selection:\n",
    " - choosing type of model\n",
    " - choosing variables to include in model a particular model\n",
    " - choosing interactions\n",
    " - choosing transformations or splines\n",
    " \n",
    "**Deviance**\n",
    "\n",
    "- Comes from [likelihood ratio test](https://en.wikipedia.org/wiki/Likelihood-ratio_test):\n",
    "$$\\lambda_{\\text{LR}}= -2\\log\\left[ \\frac{\\sup_{\\theta\\in\\Theta_0} \\mathcal{L}(\\theta)}{\\sup_{\\theta\\in\\Theta} \\mathcal{L}(\\theta)} \\right]=-2\\left[\\ell(\\theta_0)-\\ell(\\theta)\\right]$$\n",
    "\n",
    "\n",
    " - $\\theta_0$ is the current model and $\\theta$ is the saturated model (using the data itself)\n",
    " \n",
    " \n",
    " - For Poisson deviance:\n",
    " $$\n",
    " \\text{DEV} = -2\\left[\\sum_{i=1}^n y_i\\log\\frac{\\mu_i}{y_i} + \\sum_{i=1}^n (y_i-\\mu_i)\\right]\n",
    " $$\n",
    "- Small deviance indicates a good fit\n",
    "\n",
    "\n",
    "- Deviance is typically calculated for likelihood-based models in software packages\n",
    "\n",
    "\n",
    "- The deviance statistic follows a chi-squared distribution\n",
    "\n",
    "\n",
    "- Sometimes observation-level values are used similar to residuals in linear regression\n",
    "\n",
    "\n",
    "- Can be used to compare different *nested* models\n",
    "\n",
    "\n",
    "- I'm not sure how often it is used in practice\n",
    "\n",
    "\n",
    "- Notice that deviance will change if observations are taken away (or added)\n",
    "\n",
    "\n",
    "- if using deviance to choose variables, important to look at missing data\n",
    "\n",
    "\n",
    "**AIC**\n",
    "\n",
    "- Akaike Information Criterion\n",
    "\n",
    "\n",
    "- Derived from the Kullback-Leiber (KL) divergence metric for distributions\n",
    "\n",
    "\n",
    "- Let $p$ and $q$ be densities, then the KL divergence between p and q is defined as\n",
    "$$\n",
    "K(p, q) = \\int p(x)\\log \\frac{p(x)}{q(x)}dx\n",
    "$$\n",
    "\n",
    "\n",
    "- [Gibb's inequality](https://en.wikipedia.org/wiki/Gibbs'_inequality): For any densities, p, and q\n",
    "$$ K(p, q) \\geq 0 $$\n",
    "\n",
    "\n",
    "- If $K(p,q)$ is small, then $p$ and $q$ are close\n",
    "\n",
    "\n",
    "- $p=q$ if and only if $K(p,q)=0$ (perfect fit)\n",
    "\n",
    "\n",
    "- Now, let $p$ be the true, unknown (conditional) density of the data and let $q = \\hat p$ be the model, $\\hat p(y)= \\hat p(y|x;\\beta)$:\n",
    "$$\n",
    "K(p, \\hat p) = \\int p(y)\\log \\frac{p(y)}{\\hat p(y)}dy\n",
    "$$\n",
    "\n",
    "\n",
    "- So, we want to find a model, $\\hat p$, that makes $K(p,\\hat p)$ small\n",
    "\n",
    "\n",
    "- Using Gibb's inequality,\n",
    "$$\n",
    "K(p, \\hat p) = \\int p(y)\\log p(y)dy - \\int p(y)\\log \\hat p(y)dy \\geq 0\n",
    "$$\n",
    "\n",
    "\n",
    "- Check that $\\log p(y), \\log \\hat p(y) \\leq 0$, because $p(y), \\hat p(y)\\leq 1$, so that the first integral above is negative and the second integral is positive\n",
    "\n",
    "\n",
    "- Rearranging so that both terms are positive,\n",
    "$$\n",
    "-\\int p(y)\\log p(y)dy \\leq - \\int p(y)\\log \\hat p(y)dy\n",
    "$$\n",
    "\n",
    "\n",
    "- Because the first term does not depend on the model, $\\hat p$, we only need to consider\n",
    "$$\n",
    "\\hat M=-\\int p(y)\\log \\hat p(y)dy\n",
    "$$\n",
    "\n",
    "\n",
    "- In fact, we want to choose $\\hat p$ to minimize $\\hat M$ to minimize $K$\n",
    "\n",
    "\n",
    "- Because $\\hat M = -E[\\log\\hat p(Y)]$, it's reasonable to estimate $M$ as\n",
    "$$\n",
    "\\hat M \\approx -\\frac{1}{n}\\sum_{i=1}^n \\log \\hat p(y_i|x_i;\\beta)=-\\frac{\\ell(\\hat p)}{n}\n",
    "$$\n",
    "\n",
    "\n",
    "- This estimate is very biased because the data are used twice: once to get the MLE and once to estimate the integral\n",
    "    - Recall: If we are trying to estimate a parameter, $\\theta$, using some estimator, $\\hat \\theta$,\n",
    "    $$\\text{Bias}(\\hat \\theta) = \\hat \\theta - \\theta$$\n",
    "\n",
    "\n",
    "- Akaike showed that $$\\text{Bias}(\\hat M)\\approx -\\frac{d}{n}$$ where $d$ is the dimension of the parameter space of $\\beta$, the number of parameters being estimated\n",
    "\n",
    "\n",
    "- Subtracting out the bias and multiplying by $2n$,\n",
    "$$\n",
    "\\text{AIC}(\\hat p) = 2n\\left(\\hat M -\\text{Bias}(\\hat M)\\right) = -2\\ell(\\hat p)+2d\n",
    "$$\n",
    "\n",
    "\n",
    "- Thus, the model with a smaller AIC should be a better fit\n",
    "\n",
    "\n",
    "\n",
    "- AIC can be used to compare models that use *likelihood*: maximizes product of probabilities\n",
    "    - does not have to be nested (like deviance)\n",
    "\n",
    "\n",
    "- Again, watch out for missing data - some programs will drop any row with missing values which will change AIC\n",
    "\n",
    "\n",
    "- Question: Is this clear?\n",
    "    - a) yes\n",
    "    - b) no\n",
    "\n",
    "\n",
    "**BIC**\n",
    "- [Bayesian Information Criterion](https://en.wikipedia.org/wiki/Bayesian_information_criterion)\n",
    "\n",
    "\n",
    "- Similar development to AIC, except it uses a [Bayesian](https://en.wikipedia.org/wiki/Bayesian_statistics) paradigm\n",
    "    - Assumes parameters are random variables and have distributions themselves\n",
    "    - In Bayesian statistics, we must choose the distribution we want our parameters to have, called a *prior distribution*\n",
    "\n",
    "\n",
    "- Choose model to minimize\n",
    "$$\n",
    "\\text{BIC}(\\hat p)=-2\\ell(\\hat p)+ d\\log n\n",
    "$$\n",
    "\n",
    "\n",
    "- BIC tends to choose simpler models (models with fewer parameters) than AIC\n",
    "\n",
    "\n",
    "- **Practice**: If fewer variables in a model is helpful, BIC may be a better choice than AIC\n",
    "\n",
    "\n",
    "**Cross Validation**\n",
    "- This method randomly splits the data into a training set and a test set\n",
    "\n",
    "\n",
    "- Training set used to fit the model\n",
    "\n",
    "\n",
    "- Test set used to make new predictions then compare predictions to actual values\n",
    "\n",
    "\n",
    "- Used more in data science and machine learning\n",
    "\n",
    "\n",
    "- More general than AIC/BIC because it compares predictions with data\n",
    "    - does not require likelihoods\n",
    "\n",
    "\n",
    "- Will discuss later in the course\n",
    "\n",
    "\n",
    "**Post Selection Inference**\n",
    "\n",
    "\n",
    "- If you search through *too many* models, standard inference (standard errors, confidence intervals, p-values), are no longer valid\n",
    "\n",
    "\n",
    "- This is different that p-hacking but related\n",
    "\n",
    "\n",
    "- Problem: using same data twice, once for model selection, again for model fitting\n",
    "\n",
    "\n",
    "- Analogy: expecting sample mean to have same distribution as the sample max\n",
    "\n",
    "\n",
    "- Fixes: Use valid post selection methods, split data, get expert help to choose a model\n",
    "\n"
   ]
  },
  {
   "cell_type": "markdown",
   "id": "controversial-economy",
   "metadata": {},
   "source": [
    "### Model fitting in practice\n",
    "- In many settings, the goal is to understand associations with an outcome\n",
    "\n",
    "\n",
    "- The goal is not to fit the perfect model\n",
    "\n",
    "\n",
    "- Even though GLMs are association models, investigators will use these models to attempt to explain a causal relationship using expert subject-matter knowledge\n",
    "\n",
    "\n",
    "- Many researchers will always want to see the variable of interest in the model, even when it does not improve model fit\n",
    "\n",
    "\n",
    "- In some cases, researcher also want more information (more variables) \n",
    "\n",
    "\n",
    "- Model selection often needs to be a discussion to determine how to meet the goals of the current work\n",
    "\n",
    "\n",
    "- Often, there is room for several good models\n",
    "\n",
    "\n",
    "- Good idea to run *sensitivity analyses*: changing model/assumptions to understand how *robust* outcomes are under varying models/assumptions\n",
    "\n"
   ]
  },
  {
   "cell_type": "markdown",
   "id": "blind-principle",
   "metadata": {},
   "source": [
    "### Bike Crossings Regression Modeling\n",
    "- In this case, we don't have a lot of information about what the client wants other than generally understand how each variable is associated with the outcome\n",
    "\n",
    "\n",
    "- Because there are not a lot of variables and many rows, it's not a problem to include them all\n",
    "    - There is no rule on how large $\\frac{n}{p}$ needs to be\n",
    "    - $n=$ number of rows, $p=$ number of parameters to estimate\n",
    "\n",
    "\n",
    "- Note that because all of the information in WEEKEND is already in DAY_OF_WEEK, we exclude day of week ([multicollinearity](https://en.wikipedia.org/wiki/Multicollinearity))\n",
    "\n",
    "\n",
    "- It would be also be reasonable to include DAY_OF_WEEK as a categorical variable\n",
    "\n",
    "\n",
    "- Remember, when using a software package for the first time, look over the [documentation](https://www.statsmodels.org/stable/glm.html)\n",
    "\n"
   ]
  },
  {
   "cell_type": "code",
   "execution_count": 33,
   "id": "elect-hearing",
   "metadata": {},
   "outputs": [
    {
     "data": {
      "text/html": [
       "<table class=\"simpletable\">\n",
       "<caption>Generalized Linear Model Regression Results</caption>\n",
       "<tr>\n",
       "  <th>Dep. Variable:</th>       <td>BB_COUNT</td>     <th>  No. Observations:  </th>  <td>   214</td> \n",
       "</tr>\n",
       "<tr>\n",
       "  <th>Model:</th>                  <td>GLM</td>       <th>  Df Residuals:      </th>  <td>   202</td> \n",
       "</tr>\n",
       "<tr>\n",
       "  <th>Model Family:</th>         <td>Poisson</td>     <th>  Df Model:          </th>  <td>    11</td> \n",
       "</tr>\n",
       "<tr>\n",
       "  <th>Link Function:</th>          <td>log</td>       <th>  Scale:             </th> <td>  1.0000</td>\n",
       "</tr>\n",
       "<tr>\n",
       "  <th>Method:</th>                <td>IRLS</td>       <th>  Log-Likelihood:    </th> <td> -14552.</td>\n",
       "</tr>\n",
       "<tr>\n",
       "  <th>Date:</th>            <td>Tue, 07 Sep 2021</td> <th>  Deviance:          </th> <td>  27040.</td>\n",
       "</tr>\n",
       "<tr>\n",
       "  <th>Time:</th>                <td>20:12:29</td>     <th>  Pearson chi2:      </th> <td>2.68e+04</td>\n",
       "</tr>\n",
       "<tr>\n",
       "  <th>No. Iterations:</th>          <td>5</td>        <th>                     </th>     <td> </td>   \n",
       "</tr>\n",
       "<tr>\n",
       "  <th>Covariance Type:</th>     <td>nonrobust</td>    <th>                     </th>     <td> </td>   \n",
       "</tr>\n",
       "</table>\n",
       "<table class=\"simpletable\">\n",
       "<tr>\n",
       "        <td></td>          <th>coef</th>     <th>std err</th>      <th>z</th>      <th>P>|z|</th>  <th>[0.025</th>    <th>0.975]</th>  \n",
       "</tr>\n",
       "<tr>\n",
       "  <th>Intercept</th>    <td>    7.1675</td> <td>    0.013</td> <td>  571.897</td> <td> 0.000</td> <td>    7.143</td> <td>    7.192</td>\n",
       "</tr>\n",
       "<tr>\n",
       "  <th>MONTH[T.Aug]</th> <td>    0.2194</td> <td>    0.006</td> <td>   35.817</td> <td> 0.000</td> <td>    0.207</td> <td>    0.231</td>\n",
       "</tr>\n",
       "<tr>\n",
       "  <th>MONTH[T.Jul]</th> <td>    0.1277</td> <td>    0.007</td> <td>   19.128</td> <td> 0.000</td> <td>    0.115</td> <td>    0.141</td>\n",
       "</tr>\n",
       "<tr>\n",
       "  <th>MONTH[T.Jun]</th> <td>    0.1443</td> <td>    0.006</td> <td>   23.676</td> <td> 0.000</td> <td>    0.132</td> <td>    0.156</td>\n",
       "</tr>\n",
       "<tr>\n",
       "  <th>MONTH[T.May]</th> <td>    0.0932</td> <td>    0.005</td> <td>   17.150</td> <td> 0.000</td> <td>    0.083</td> <td>    0.104</td>\n",
       "</tr>\n",
       "<tr>\n",
       "  <th>MONTH[T.Oct]</th> <td>    0.1046</td> <td>    0.005</td> <td>   19.322</td> <td> 0.000</td> <td>    0.094</td> <td>    0.115</td>\n",
       "</tr>\n",
       "<tr>\n",
       "  <th>MONTH[T.Sep]</th> <td>    0.1480</td> <td>    0.006</td> <td>   25.455</td> <td> 0.000</td> <td>    0.137</td> <td>    0.159</td>\n",
       "</tr>\n",
       "<tr>\n",
       "  <th>DAY</th>          <td>    0.0007</td> <td>    0.000</td> <td>    4.490</td> <td> 0.000</td> <td>    0.000</td> <td>    0.001</td>\n",
       "</tr>\n",
       "<tr>\n",
       "  <th>WEEKEND</th>      <td>   -0.1185</td> <td>    0.003</td> <td>  -39.174</td> <td> 0.000</td> <td>   -0.124</td> <td>   -0.113</td>\n",
       "</tr>\n",
       "<tr>\n",
       "  <th>HIGH_T10</th>     <td>    0.2477</td> <td>    0.003</td> <td>   81.744</td> <td> 0.000</td> <td>    0.242</td> <td>    0.254</td>\n",
       "</tr>\n",
       "<tr>\n",
       "  <th>LOW_T10</th>      <td>   -0.1866</td> <td>    0.004</td> <td>  -50.356</td> <td> 0.000</td> <td>   -0.194</td> <td>   -0.179</td>\n",
       "</tr>\n",
       "<tr>\n",
       "  <th>PRECIP</th>       <td>   -0.7697</td> <td>    0.007</td> <td> -112.563</td> <td> 0.000</td> <td>   -0.783</td> <td>   -0.756</td>\n",
       "</tr>\n",
       "</table>"
      ],
      "text/plain": [
       "<class 'statsmodels.iolib.summary.Summary'>\n",
       "\"\"\"\n",
       "                 Generalized Linear Model Regression Results                  \n",
       "==============================================================================\n",
       "Dep. Variable:               BB_COUNT   No. Observations:                  214\n",
       "Model:                            GLM   Df Residuals:                      202\n",
       "Model Family:                 Poisson   Df Model:                           11\n",
       "Link Function:                    log   Scale:                          1.0000\n",
       "Method:                          IRLS   Log-Likelihood:                -14552.\n",
       "Date:                Tue, 07 Sep 2021   Deviance:                       27040.\n",
       "Time:                        20:12:29   Pearson chi2:                 2.68e+04\n",
       "No. Iterations:                     5                                         \n",
       "Covariance Type:            nonrobust                                         \n",
       "================================================================================\n",
       "                   coef    std err          z      P>|z|      [0.025      0.975]\n",
       "--------------------------------------------------------------------------------\n",
       "Intercept        7.1675      0.013    571.897      0.000       7.143       7.192\n",
       "MONTH[T.Aug]     0.2194      0.006     35.817      0.000       0.207       0.231\n",
       "MONTH[T.Jul]     0.1277      0.007     19.128      0.000       0.115       0.141\n",
       "MONTH[T.Jun]     0.1443      0.006     23.676      0.000       0.132       0.156\n",
       "MONTH[T.May]     0.0932      0.005     17.150      0.000       0.083       0.104\n",
       "MONTH[T.Oct]     0.1046      0.005     19.322      0.000       0.094       0.115\n",
       "MONTH[T.Sep]     0.1480      0.006     25.455      0.000       0.137       0.159\n",
       "DAY              0.0007      0.000      4.490      0.000       0.000       0.001\n",
       "WEEKEND         -0.1185      0.003    -39.174      0.000      -0.124      -0.113\n",
       "HIGH_T10         0.2477      0.003     81.744      0.000       0.242       0.254\n",
       "LOW_T10         -0.1866      0.004    -50.356      0.000      -0.194      -0.179\n",
       "PRECIP          -0.7697      0.007   -112.563      0.000      -0.783      -0.756\n",
       "================================================================================\n",
       "\"\"\""
      ]
     },
     "execution_count": 33,
     "metadata": {},
     "output_type": "execute_result"
    }
   ],
   "source": [
    "df['HIGH_T10'] = df['HIGH_T']/10\n",
    "df['LOW_T10'] = df['LOW_T']/10\n",
    "expr = 'BB_COUNT ~ DAY + WEEKEND + MONTH + HIGH_T10 + LOW_T10 + PRECIP'\n",
    "bikePoisson = sm.GLM.from_formula(\n",
    "    expr, data=df, family=sm.families.Poisson()).fit()\n",
    "bikePoisson.summary()"
   ]
  },
  {
   "cell_type": "markdown",
   "id": "variable-winning",
   "metadata": {
    "scrolled": false
   },
   "source": [
    "- Question: Can we put the table above in the body of a report?\n",
    "    - a) yes\n",
    "    - b) no\n",
    "    - why?\n",
    "\n",
    "\n",
    "- What might be problematic with this model above?\n",
    "\n",
    "\n",
    "- Again, assuming Poisson distributed data assumes\n",
    "$$E[Y|X;\\beta]=\\text{Var}[Y|X;\\beta]$$\n",
    "\n",
    "\n",
    "- If this does not hold, the parameter point estimates will still be accurate but the variance and confidence intervals will be off\n",
    "\n",
    "\n",
    "- Variance is important for inference (statistical significance) but if the goal is prediction, having the correct variance structure is not as important\n",
    "\n",
    "\n",
    "- For *statistical inference*, we need to focus on the mean and variance models\n",
    "\n",
    "\n",
    "- Question: Do we *always* need to the variance to be approximately correct?\n",
    "    - a) yes\n",
    "    - b) no\n",
    "\n",
    "\n",
    "- In the statsmodels python module, setting `scale=\"X2\"` in the [`fit` method](https://www.statsmodels.org/stable/generated/statsmodels.genmod.generalized_linear_model.GLM.fit.html) estimates the scale parameter as Pearson’s chi-square divided by df_resid for the entire sample\n",
    "\n",
    "\n",
    "- Using this, we allow $\\text{Var}[Y|X;\\beta]=\\phi E[Y|X;\\beta]$ for $\\phi>0$\n",
    "\n",
    "\n",
    "- Note: This is no longer a likelihood-based model, but rather quasi-likelihood, so it is not appropriate to use AIC to compare\n",
    "\n",
    "\n",
    "- Quasi-likelihood objective function\n",
    "$$Q(\\beta) = \\sum_i \\frac{(y_i-\\mu_i(\\beta))^2}{\\phi \\text{Var}(\\mu_i(\\beta))}$$\n",
    "where $\\mu_i(\\beta)$ is the model fitted value and $\\text{Var}(\\mu_i(\\beta))$ is the model variance\n",
    "\n",
    "\n",
    "- Use its gradient for optimization\n",
    "$$\\nabla_\\beta Q = \\sum_i \\nabla_\\beta \\mu_i(\\beta)\\frac{2(y_i-\\mu_i(\\beta))}{\\text{Var}(\\mu_i(\\beta))}$$\n",
    "\n",
    "\n",
    "- We can use Quasi-AIC (QAIC or QIC) to compare different quasi-likelihood-based models\n",
    "\n",
    "\n",
    "- The scale parameter is estimated as \n",
    "$$\\hat \\phi = \\frac{\\sum_i (y_i-\\hat\\mu_i)^2}{(n-p)V(\\hat\\mu_i)}$$\n",
    "\n",
    "\n",
    "- Because this is count data, it probably follows some conditional Poisson distribution given all the necessary variables and transformations\n",
    "\n",
    "\n",
    "- It may be possible to construct a model with $\\hat\\phi\\approx 1$\n",
    "\n"
   ]
  },
  {
   "cell_type": "code",
   "execution_count": 34,
   "id": "signed-greene",
   "metadata": {},
   "outputs": [
    {
     "data": {
      "text/html": [
       "<table class=\"simpletable\">\n",
       "<caption>Generalized Linear Model Regression Results</caption>\n",
       "<tr>\n",
       "  <th>Dep. Variable:</th>       <td>BB_COUNT</td>     <th>  No. Observations:  </th>  <td>   214</td> \n",
       "</tr>\n",
       "<tr>\n",
       "  <th>Model:</th>                  <td>GLM</td>       <th>  Df Residuals:      </th>  <td>   202</td> \n",
       "</tr>\n",
       "<tr>\n",
       "  <th>Model Family:</th>         <td>Poisson</td>     <th>  Df Model:          </th>  <td>    11</td> \n",
       "</tr>\n",
       "<tr>\n",
       "  <th>Link Function:</th>          <td>log</td>       <th>  Scale:             </th> <td>  132.85</td>\n",
       "</tr>\n",
       "<tr>\n",
       "  <th>Method:</th>                <td>IRLS</td>       <th>  Log-Likelihood:    </th> <td> -109.54</td>\n",
       "</tr>\n",
       "<tr>\n",
       "  <th>Date:</th>            <td>Tue, 07 Sep 2021</td> <th>  Deviance:          </th> <td>  27040.</td>\n",
       "</tr>\n",
       "<tr>\n",
       "  <th>Time:</th>                <td>20:12:29</td>     <th>  Pearson chi2:      </th> <td>2.68e+04</td>\n",
       "</tr>\n",
       "<tr>\n",
       "  <th>No. Iterations:</th>          <td>7</td>        <th>                     </th>     <td> </td>   \n",
       "</tr>\n",
       "<tr>\n",
       "  <th>Covariance Type:</th>     <td>nonrobust</td>    <th>                     </th>     <td> </td>   \n",
       "</tr>\n",
       "</table>\n",
       "<table class=\"simpletable\">\n",
       "<tr>\n",
       "        <td></td>          <th>coef</th>     <th>std err</th>      <th>z</th>      <th>P>|z|</th>  <th>[0.025</th>    <th>0.975]</th>  \n",
       "</tr>\n",
       "<tr>\n",
       "  <th>Intercept</th>    <td>    7.1675</td> <td>    0.144</td> <td>   49.617</td> <td> 0.000</td> <td>    6.884</td> <td>    7.451</td>\n",
       "</tr>\n",
       "<tr>\n",
       "  <th>MONTH[T.Aug]</th> <td>    0.2194</td> <td>    0.071</td> <td>    3.107</td> <td> 0.002</td> <td>    0.081</td> <td>    0.358</td>\n",
       "</tr>\n",
       "<tr>\n",
       "  <th>MONTH[T.Jul]</th> <td>    0.1277</td> <td>    0.077</td> <td>    1.660</td> <td> 0.097</td> <td>   -0.023</td> <td>    0.278</td>\n",
       "</tr>\n",
       "<tr>\n",
       "  <th>MONTH[T.Jun]</th> <td>    0.1443</td> <td>    0.070</td> <td>    2.054</td> <td> 0.040</td> <td>    0.007</td> <td>    0.282</td>\n",
       "</tr>\n",
       "<tr>\n",
       "  <th>MONTH[T.May]</th> <td>    0.0932</td> <td>    0.063</td> <td>    1.488</td> <td> 0.137</td> <td>   -0.030</td> <td>    0.216</td>\n",
       "</tr>\n",
       "<tr>\n",
       "  <th>MONTH[T.Oct]</th> <td>    0.1046</td> <td>    0.062</td> <td>    1.676</td> <td> 0.094</td> <td>   -0.018</td> <td>    0.227</td>\n",
       "</tr>\n",
       "<tr>\n",
       "  <th>MONTH[T.Sep]</th> <td>    0.1480</td> <td>    0.067</td> <td>    2.208</td> <td> 0.027</td> <td>    0.017</td> <td>    0.279</td>\n",
       "</tr>\n",
       "<tr>\n",
       "  <th>DAY</th>          <td>    0.0007</td> <td>    0.002</td> <td>    0.390</td> <td> 0.697</td> <td>   -0.003</td> <td>    0.004</td>\n",
       "</tr>\n",
       "<tr>\n",
       "  <th>WEEKEND</th>      <td>   -0.1185</td> <td>    0.035</td> <td>   -3.399</td> <td> 0.001</td> <td>   -0.187</td> <td>   -0.050</td>\n",
       "</tr>\n",
       "<tr>\n",
       "  <th>HIGH_T10</th>     <td>    0.2477</td> <td>    0.035</td> <td>    7.092</td> <td> 0.000</td> <td>    0.179</td> <td>    0.316</td>\n",
       "</tr>\n",
       "<tr>\n",
       "  <th>LOW_T10</th>      <td>   -0.1866</td> <td>    0.043</td> <td>   -4.369</td> <td> 0.000</td> <td>   -0.270</td> <td>   -0.103</td>\n",
       "</tr>\n",
       "<tr>\n",
       "  <th>PRECIP</th>       <td>   -0.7697</td> <td>    0.079</td> <td>   -9.766</td> <td> 0.000</td> <td>   -0.924</td> <td>   -0.615</td>\n",
       "</tr>\n",
       "</table>"
      ],
      "text/plain": [
       "<class 'statsmodels.iolib.summary.Summary'>\n",
       "\"\"\"\n",
       "                 Generalized Linear Model Regression Results                  \n",
       "==============================================================================\n",
       "Dep. Variable:               BB_COUNT   No. Observations:                  214\n",
       "Model:                            GLM   Df Residuals:                      202\n",
       "Model Family:                 Poisson   Df Model:                           11\n",
       "Link Function:                    log   Scale:                          132.85\n",
       "Method:                          IRLS   Log-Likelihood:                -109.54\n",
       "Date:                Tue, 07 Sep 2021   Deviance:                       27040.\n",
       "Time:                        20:12:29   Pearson chi2:                 2.68e+04\n",
       "No. Iterations:                     7                                         \n",
       "Covariance Type:            nonrobust                                         \n",
       "================================================================================\n",
       "                   coef    std err          z      P>|z|      [0.025      0.975]\n",
       "--------------------------------------------------------------------------------\n",
       "Intercept        7.1675      0.144     49.617      0.000       6.884       7.451\n",
       "MONTH[T.Aug]     0.2194      0.071      3.107      0.002       0.081       0.358\n",
       "MONTH[T.Jul]     0.1277      0.077      1.660      0.097      -0.023       0.278\n",
       "MONTH[T.Jun]     0.1443      0.070      2.054      0.040       0.007       0.282\n",
       "MONTH[T.May]     0.0932      0.063      1.488      0.137      -0.030       0.216\n",
       "MONTH[T.Oct]     0.1046      0.062      1.676      0.094      -0.018       0.227\n",
       "MONTH[T.Sep]     0.1480      0.067      2.208      0.027       0.017       0.279\n",
       "DAY              0.0007      0.002      0.390      0.697      -0.003       0.004\n",
       "WEEKEND         -0.1185      0.035     -3.399      0.001      -0.187      -0.050\n",
       "HIGH_T10         0.2477      0.035      7.092      0.000       0.179       0.316\n",
       "LOW_T10         -0.1866      0.043     -4.369      0.000      -0.270      -0.103\n",
       "PRECIP          -0.7697      0.079     -9.766      0.000      -0.924      -0.615\n",
       "================================================================================\n",
       "\"\"\""
      ]
     },
     "execution_count": 34,
     "metadata": {},
     "output_type": "execute_result"
    }
   ],
   "source": [
    "bikePoisOD = sm.GLM.from_formula(\n",
    "    expr, data=df, family=sm.families.Poisson()).fit(scale=\"X2\")\n",
    "bikePoisOD.summary()"
   ]
  },
  {
   "cell_type": "markdown",
   "id": "third-discretion",
   "metadata": {},
   "source": [
    "- In the model above, the scale parameter = 133 >> 1 indicating overdispersion\n",
    "\n",
    "\n",
    "- There are tests, but a reasonable heuristic is $\\hat\\phi > 1.5$\n",
    "\n",
    "\n",
    "- Notice that the 'coef' estimates between both models are similar but the 'std err' values are very different\n",
    "\n",
    "\n",
    "- std err from the overdispersion model $=SE_{OD}(\\hat\\beta)= \\sqrt{\\hat\\phi} SE(\\hat\\beta)$ where $SE(\\hat\\beta)$ is the std err from the Poisson model\n",
    "\n",
    "\n",
    "- Comparing quasi-likelihood-based models, we can use QAIC\n",
    "$$QAIC = -2Q_j+2p_j$$\n",
    "where $QAIC_j$ and $p_j$ are the quasi-likelihood and parameter count for model $j$\n",
    "\n"
   ]
  },
  {
   "cell_type": "markdown",
   "id": "failing-ethics",
   "metadata": {},
   "source": [
    "**Negative Binomial Regression**\n",
    "\n",
    "- Another option is to assume a negative binomial (NB) distribution\n",
    "\n",
    "\n",
    "- What does [negative binomial](https://en.wikipedia.org/wiki/Negative_binomial_distribution) actually model?\n",
    "    - a) number of successes in a sequence of $n$ independent Bernoulli trials\n",
    "    - b) number of independent events occurring in a fixed interval of time or space with a constant rate\n",
    "    - c) number of successes in a sequence of independent Bernoulli trials before a specified number of failures occurs\n",
    "    - d) number of successes in n draws, without replacement, from a finite population of size $N$ that contains exactly $K$ successes\n",
    "\n",
    "\n",
    "- While it's clear that the count data do not have a NB distribution, this model gives more flexibility for modeling variance than Poisson\n",
    "\n",
    "\n",
    "- Remember: Our goal is to quantify the relationship between the variables and the outcome\n",
    "    - The model we present will almost certainly not be perfect but it can still be helpful\n",
    "\n",
    "\n",
    "- NB relaxes the assumption that $E[Y|X]=\\text{Var}[Y|X]$\n",
    "\n",
    "\n",
    "- If $Y|X\\sim\\text{Negative Binomial}(r,p)$ then\n",
    "$$\\text{Var}[Y|X] = E[Y|X]+\\alpha E[Y|X]^2$$\n",
    "\n",
    "\n",
    "- Technically, NB can also be modeled with overdispersion as well\n",
    "    - We would probably not use here\n",
    "    - Why?\n",
    "\n"
   ]
  },
  {
   "cell_type": "code",
   "execution_count": 35,
   "id": "brief-bibliography",
   "metadata": {},
   "outputs": [
    {
     "data": {
      "text/html": [
       "<table class=\"simpletable\">\n",
       "<caption>Generalized Linear Model Regression Results</caption>\n",
       "<tr>\n",
       "  <th>Dep. Variable:</th>       <td>BB_COUNT</td>     <th>  No. Observations:  </th>  <td>   214</td> \n",
       "</tr>\n",
       "<tr>\n",
       "  <th>Model:</th>                  <td>GLM</td>       <th>  Df Residuals:      </th>  <td>   202</td> \n",
       "</tr>\n",
       "<tr>\n",
       "  <th>Model Family:</th>    <td>NegativeBinomial</td> <th>  Df Model:          </th>  <td>    11</td> \n",
       "</tr>\n",
       "<tr>\n",
       "  <th>Link Function:</th>          <td>log</td>       <th>  Scale:             </th> <td>  1.0000</td>\n",
       "</tr>\n",
       "<tr>\n",
       "  <th>Method:</th>                <td>IRLS</td>       <th>  Log-Likelihood:    </th> <td> -1892.6</td>\n",
       "</tr>\n",
       "<tr>\n",
       "  <th>Date:</th>            <td>Tue, 07 Sep 2021</td> <th>  Deviance:          </th> <td>  15.590</td>\n",
       "</tr>\n",
       "<tr>\n",
       "  <th>Time:</th>                <td>20:12:29</td>     <th>  Pearson chi2:      </th>  <td>  13.8</td> \n",
       "</tr>\n",
       "<tr>\n",
       "  <th>No. Iterations:</th>          <td>7</td>        <th>                     </th>     <td> </td>   \n",
       "</tr>\n",
       "<tr>\n",
       "  <th>Covariance Type:</th>     <td>nonrobust</td>    <th>                     </th>     <td> </td>   \n",
       "</tr>\n",
       "</table>\n",
       "<table class=\"simpletable\">\n",
       "<tr>\n",
       "        <td></td>          <th>coef</th>     <th>std err</th>      <th>z</th>      <th>P>|z|</th>  <th>[0.025</th>    <th>0.975]</th>  \n",
       "</tr>\n",
       "<tr>\n",
       "  <th>Intercept</th>    <td>    6.9052</td> <td>    0.620</td> <td>   11.138</td> <td> 0.000</td> <td>    5.690</td> <td>    8.120</td>\n",
       "</tr>\n",
       "<tr>\n",
       "  <th>MONTH[T.Aug]</th> <td>    0.2352</td> <td>    0.319</td> <td>    0.738</td> <td> 0.461</td> <td>   -0.390</td> <td>    0.860</td>\n",
       "</tr>\n",
       "<tr>\n",
       "  <th>MONTH[T.Jul]</th> <td>    0.1573</td> <td>    0.341</td> <td>    0.461</td> <td> 0.644</td> <td>   -0.511</td> <td>    0.825</td>\n",
       "</tr>\n",
       "<tr>\n",
       "  <th>MONTH[T.Jun]</th> <td>    0.1923</td> <td>    0.310</td> <td>    0.620</td> <td> 0.535</td> <td>   -0.416</td> <td>    0.801</td>\n",
       "</tr>\n",
       "<tr>\n",
       "  <th>MONTH[T.May]</th> <td>    0.1375</td> <td>    0.264</td> <td>    0.521</td> <td> 0.602</td> <td>   -0.380</td> <td>    0.654</td>\n",
       "</tr>\n",
       "<tr>\n",
       "  <th>MONTH[T.Oct]</th> <td>    0.1265</td> <td>    0.269</td> <td>    0.471</td> <td> 0.638</td> <td>   -0.400</td> <td>    0.653</td>\n",
       "</tr>\n",
       "<tr>\n",
       "  <th>MONTH[T.Sep]</th> <td>    0.1668</td> <td>    0.297</td> <td>    0.561</td> <td> 0.575</td> <td>   -0.416</td> <td>    0.750</td>\n",
       "</tr>\n",
       "<tr>\n",
       "  <th>DAY</th>          <td>    0.0005</td> <td>    0.008</td> <td>    0.058</td> <td> 0.954</td> <td>   -0.015</td> <td>    0.016</td>\n",
       "</tr>\n",
       "<tr>\n",
       "  <th>WEEKEND</th>      <td>   -0.1170</td> <td>    0.152</td> <td>   -0.771</td> <td> 0.441</td> <td>   -0.415</td> <td>    0.181</td>\n",
       "</tr>\n",
       "<tr>\n",
       "  <th>HIGH_T10</th>     <td>    0.3157</td> <td>    0.153</td> <td>    2.065</td> <td> 0.039</td> <td>    0.016</td> <td>    0.615</td>\n",
       "</tr>\n",
       "<tr>\n",
       "  <th>LOW_T10</th>      <td>   -0.2315</td> <td>    0.190</td> <td>   -1.215</td> <td> 0.224</td> <td>   -0.605</td> <td>    0.142</td>\n",
       "</tr>\n",
       "<tr>\n",
       "  <th>PRECIP</th>       <td>   -0.6564</td> <td>    0.184</td> <td>   -3.575</td> <td> 0.000</td> <td>   -1.016</td> <td>   -0.297</td>\n",
       "</tr>\n",
       "</table>"
      ],
      "text/plain": [
       "<class 'statsmodels.iolib.summary.Summary'>\n",
       "\"\"\"\n",
       "                 Generalized Linear Model Regression Results                  \n",
       "==============================================================================\n",
       "Dep. Variable:               BB_COUNT   No. Observations:                  214\n",
       "Model:                            GLM   Df Residuals:                      202\n",
       "Model Family:        NegativeBinomial   Df Model:                           11\n",
       "Link Function:                    log   Scale:                          1.0000\n",
       "Method:                          IRLS   Log-Likelihood:                -1892.6\n",
       "Date:                Tue, 07 Sep 2021   Deviance:                       15.590\n",
       "Time:                        20:12:29   Pearson chi2:                     13.8\n",
       "No. Iterations:                     7                                         \n",
       "Covariance Type:            nonrobust                                         \n",
       "================================================================================\n",
       "                   coef    std err          z      P>|z|      [0.025      0.975]\n",
       "--------------------------------------------------------------------------------\n",
       "Intercept        6.9052      0.620     11.138      0.000       5.690       8.120\n",
       "MONTH[T.Aug]     0.2352      0.319      0.738      0.461      -0.390       0.860\n",
       "MONTH[T.Jul]     0.1573      0.341      0.461      0.644      -0.511       0.825\n",
       "MONTH[T.Jun]     0.1923      0.310      0.620      0.535      -0.416       0.801\n",
       "MONTH[T.May]     0.1375      0.264      0.521      0.602      -0.380       0.654\n",
       "MONTH[T.Oct]     0.1265      0.269      0.471      0.638      -0.400       0.653\n",
       "MONTH[T.Sep]     0.1668      0.297      0.561      0.575      -0.416       0.750\n",
       "DAY              0.0005      0.008      0.058      0.954      -0.015       0.016\n",
       "WEEKEND         -0.1170      0.152     -0.771      0.441      -0.415       0.181\n",
       "HIGH_T10         0.3157      0.153      2.065      0.039       0.016       0.615\n",
       "LOW_T10         -0.2315      0.190     -1.215      0.224      -0.605       0.142\n",
       "PRECIP          -0.6564      0.184     -3.575      0.000      -1.016      -0.297\n",
       "================================================================================\n",
       "\"\"\""
      ]
     },
     "execution_count": 35,
     "metadata": {},
     "output_type": "execute_result"
    }
   ],
   "source": [
    "bikeNB = sm.GLM.from_formula(\n",
    "    expr, data=df, family=sm.families.NegativeBinomial()).fit()\n",
    "bikeNB.summary()"
   ]
  },
  {
   "cell_type": "markdown",
   "id": "heavy-combination",
   "metadata": {},
   "source": [
    "- Using AIC to choose a model: smaller is better\n",
    " \n",
    "\n",
    " \n",
    "- Why can we use AIC to compare Poisson regression to Negative Binomial Regression?\n",
    "\n",
    "\n",
    "- Question: Can compare any likelihood-based models with AIC/BIC?\n",
    "    - a) yes\n",
    "    - b) no\n",
    "\n",
    "\n",
    "- Question: Could we do this with deviance?\n",
    "    - a) yes\n",
    "    - b) no\n",
    "\n",
    "\n",
    "- What about comparing QAIC and AIC?\n",
    "\n"
   ]
  },
  {
   "cell_type": "code",
   "execution_count": 36,
   "id": "exciting-emperor",
   "metadata": {},
   "outputs": [
    {
     "name": "stdout",
     "output_type": "stream",
     "text": [
      "Poissson AIC: 29128.584038620367\n",
      "Negative Binomial AIC: 3809.2559411926095\n"
     ]
    }
   ],
   "source": [
    "print(f'Poissson AIC: {bikePoisson.aic}')\n",
    "print(f'Negative Binomial AIC: {bikeNB.aic}')"
   ]
  },
  {
   "cell_type": "markdown",
   "id": "spectacular-green",
   "metadata": {},
   "source": [
    "### Diagnostics\n",
    "- These are some general diagnostic visuals\n",
    "\n",
    "\n",
    "- They tend to be somewhat subjective\n",
    "\n",
    "\n",
    "- But, they are very helpful for finding influential points\n",
    "\n"
   ]
  },
  {
   "cell_type": "code",
   "execution_count": 37,
   "id": "neutral-likelihood",
   "metadata": {},
   "outputs": [
    {
     "data": {
      "image/png": "[encoded data removed]",
      "text/plain": [
       "<Figure size 432x288 with 1 Axes>"
      ]
     },
     "metadata": {
      "needs_background": "light"
     },
     "output_type": "display_data"
    }
   ],
   "source": [
    "fig, ax = plt.subplots()\n",
    "ax.scatter(bikePoisOD.fittedvalues, df['BB_COUNT'])\n",
    "line_fit = sm.OLS(\n",
    "    df['BB_COUNT'], \n",
    "    sm.add_constant(bikePoisOD.fittedvalues, prepend=True)).fit()\n",
    "abline_plot(model_results=line_fit, ax=ax, color='r')\n",
    "ax.set_title('Model Fit Plot')\n",
    "ax.set_ylabel('Observed values')\n",
    "ax.set_xlabel('Fitted values');"
   ]
  },
  {
   "cell_type": "code",
   "execution_count": 38,
   "id": "satellite-impossible",
   "metadata": {},
   "outputs": [
    {
     "data": {
      "text/plain": [
       "Text(0.5, 0, 'Fitted values')"
      ]
     },
     "execution_count": 38,
     "metadata": {},
     "output_type": "execute_result"
    },
    {
     "data": {
      "image/png": "[encoded data removed]",
      "text/plain": [
       "<Figure size 432x288 with 1 Axes>"
      ]
     },
     "metadata": {
      "needs_background": "light"
     },
     "output_type": "display_data"
    }
   ],
   "source": [
    "fig, ax = plt.subplots()\n",
    "ax.scatter(bikePoisOD.fittedvalues, bikePoisOD.resid_pearson)\n",
    "ax.hlines(0, 4e3, 1, color='r')\n",
    "ax.set_title('Residual Dependence Plot')\n",
    "ax.set_ylabel('Pearson Residuals')\n",
    "ax.set_xlabel('Fitted values')"
   ]
  },
  {
   "cell_type": "code",
   "execution_count": 39,
   "id": "bibliographic-theology",
   "metadata": {
    "scrolled": true
   },
   "outputs": [
    {
     "data": {
      "text/plain": [
       "Text(0.5, 0, 'Fitted values')"
      ]
     },
     "execution_count": 39,
     "metadata": {},
     "output_type": "execute_result"
    },
    {
     "data": {
      "image/png": "[encoded data removed]",
      "text/plain": [
       "<Figure size 432x288 with 1 Axes>"
      ]
     },
     "metadata": {
      "needs_background": "light"
     },
     "output_type": "display_data"
    }
   ],
   "source": [
    "fig, ax = plt.subplots()\n",
    "ax.scatter(bikePoisOD.fittedvalues, bikePoisOD.resid_deviance)\n",
    "ax.hlines(0, 4e3, 1, color='r')\n",
    "ax.set_title('Residual Dependence Plot')\n",
    "ax.set_ylabel('Deviance Residuals')\n",
    "ax.set_xlabel('Fitted values')"
   ]
  },
  {
   "cell_type": "markdown",
   "id": "fleet-geography",
   "metadata": {},
   "source": [
    "### Choosing a model\n",
    "\n",
    "- Choosing a model can be difficult\n",
    "\n",
    "\n",
    "- Important: All models are *wrong*, but some are helpful\n",
    "\n",
    "\n",
    "- Consider how well *you* understand the model and can *communicate* the findings\n",
    "\n",
    "\n",
    "- Consider using other model (not in body of report) as sensitivity analysis\n",
    "\n",
    "\n",
    "- People are *always* developing new (complicated) methods to tackle very specific data problems\n",
    "    - It is ok (good) to use a simple model even if it is not perfect\n",
    "    \n",
    "\n",
    "- If you notice a problem with the data, use Google (search engine) to find solutions\n",
    "    - Consider the time it might take you to implement a better method and evaluate the pay off"
   ]
  },
  {
   "cell_type": "markdown",
   "id": "worse-eugene",
   "metadata": {},
   "source": [
    "### Communicating Findings\n",
    "- Opinion: most common mistake is not considering the audience\n",
    " - Which details will be helpful and which will be lost?\n",
    " - What kinds of graphics will make explanations more clear or give more useful information?\n",
    " \n",
    "**Suggestions for Intro**\n",
    "\n",
    "- First sentence should introduce the subject-matter in a way that a 5-year old can understand but addresses your client's needs\n",
    "- Second sentence should focus more on the problem at hand\n",
    "- Next, what is the problem you are trying to answer?\n",
    "- Without using jargon, how will you address it?\n",
    "- In one sentence, what is the most important finding?\n",
    "- Example for this analysis:\n",
    "\n",
    "Cycling in and out of Manhattan is commonplace.  However, the daily number entering and leaving by bicycling on any given day is likely influenced by external factors such as weather and time.  This analysis explains the daily count of cyclists crossing the Brooklyn Bridge in terms of external factors.  The models show that several factors are associated with the number of daily crossings, including temperate, weekend, and month.\n",
    "\n",
    "- Someone who has no idea about your work should be able to follow and understand your first paragraph\n",
    "\n",
    "**Suggestions for method**\n",
    "\n",
    "- In this section, you should describe the methods that you used, specifically, how it is appropriate for the data\n",
    "- The level of detail for this section will vary depending on the audience\n",
    "- It's typically easier to go into too much detail - more appropriate for a technical audience\n",
    "- For this class, you should assume that the audience is a subject-matter expert, but without a background in statistics\n",
    "- For this class, stay away from jargon\n",
    " - Example of what not to do: Due to the covariance structure among the observation, we used a mixed-effects model.\n",
    " - There are likely many setting where this is appropriate, but in others, this type of language will confuse readers\n",
    " - Instead, try to explain the problems\n",
    " - Better: This data is includes many observations from individuals over time.  To account for this, we used a mixed-effects model.\n",
    "- Explain why you modeled the data as done\n",
    "- Brief example for this analysis:\n",
    "\n",
    "In this analysis, we aim to determine which external factors are associated with number of daily cyclist crossings and quantify the degree of each association.  Because the outcome for this analysis is count data (daily cyclists crossings), we primarily use Poisson regression to model this daily count with respect to the external factors provided in the data.  As our goal is to broadly understand associations with the outcome, we include all explanatory variables available in the data in our regression model.  This is reasonable because the ratio of rows to columns for the data is large.\n",
    "\n",
    "We compare several different models to ensure an optimal fit for the model shown below using likelihood-based and quasi-likelihood based metrics.  We choose the model with best fit but association estimates are similar for all models.  We do not consider transforming any variables to further improve fit to make the model easily interpretable after considering model diagnostics.\n",
    "\n",
    "- Use \"we\" if you are working on a team, \"I\" if you're working alone\n",
    "- I typically avoid passive voice (Poisson regression was used...) in favor of active voice (We/I used Poisson regression..).\n",
    "\n",
    "**Results**\n",
    "\n",
    "- Begin the results with a high-level overview of the data without modeling, e.g. number of rows, columns\n",
    "- Provide table of distribution metrics (mean, standard deviation, or median, IQR)\n",
    "- Because this dataset is small and simple, it may be reasonable to describe in words.\n",
    "- If you need to drop observations because they're not appropriate for your purpose, or missing data, etc, a diagram is helpful, especially when rows indicate individual data.\n",
    "- Graphics are often very powerful for communicating ideas\n",
    "    - there should be a lot of graphics in your appendix to help you understand the data, from these, choose one or two that directly answers the question of interest\n",
    "- Provide a table of regression parameters transformed for easy interpretation, e.g. show exp(beta)\n",
    "    - Model: $E[Y|X=x] = \\exp(\\beta x)$, present $\\exp(\\beta)$, not $\\beta$\n",
    "    - Using delta method, we can also transform the confidence intervals\n",
    "- In words, clearly explain how to interpret the parameters by explaining a couple.\n",
    "- Brief example of results:\n",
    "\n",
    "The full data include 214 daily high and low temperature, precipitation, date, and cyclist count between April 1, 2017 and October 31, 2017 with no missing values for any of these variables.  We use all rows of data for the analysis.\n",
    "\n",
    "The data shows an average (std.) of 2680 (855) crossings.  The average (std.) high and low temperature is 74 (10) and 62 (9) degrees Fahrenheit, respectively.  The average precipitation is 0.13 (0.4), unclear unit in data.\n",
    "\n",
    "To explain day-to-day fluctuations in number of crossings, we look at several models.  Of the models we consider, we choose to report a Poisson regression model allowing for overdispersion.  We chose a Poisson model because of its simplicity to understand and because we are modeling counts within a fixed period of time.  However, it is clear that allowing for overdispersion was necessary to more accurately estimate standard errors due to the high conditional variance compared to the conditional expectation.  Table 1 below provides rate estimates along with 95% confidence intervals and p-values.  The model shows that there is a statistically significant decrease in the number of crossings with precipitation (p<0.001); for each unit increase in precipitation, crossings decrease by a factor of 0.46.  Further, there is a statistically significant increase in number of daily crossings with temperature (p<0.001); for each 10 degree increase in Fahrenheit, on average the number of crossings increase by a factor of 1.28.\n",
    "\n",
    "| Variable | Rate (95% CI) | p-value |\n",
    "| --- | --- | --- |\n",
    "| May vs Apr | 1.10 (0.97, 1.24) | 0.137 |\n",
    "| Jun vs Apr | 1.16 (1.01, 1.33) | 0.040 |\n",
    "| Jul vs Apr | 1.14\t(0.98, 1.32) | 0.097 |\n",
    "| Aug vs Apr | 1.25\t(1.08, 1.43) | 0.002 |\n",
    "| Sep vs Apr | 1.16\t(1.02, 1.32) | 0.027 |\n",
    "| Oct vs Apr | 1.11\t(0.98, 1.25) | 0.094 |\n",
    "| Weekend vs Weekday | 0.89 (0.83, 0.95) | 0.001 |\n",
    "| High Temp (per 10 deg F) | 1.28 (1.20, 1.37) | <0.001 |\n",
    "| Low Temp (per 10 deg F) | 0.83 (0.76, 0.90) | 0.000 |\n",
    "| Day of Month | 1.00 (1.00, 1.00) | 0.697 |\n",
    "| Precipitation | 0.46 (0.40, 0.54) | 0.000 |\n",
    "\n",
    "Table 1: The table above shows rate ratios (and 95% confidence intervals) for the number of cyclists crossing the Brooklyn bridge each day along with p-values for each factor assessed.\n",
    "\n",
    "**Conclusion**\n",
    "\n",
    "- Restate what you attempted to answer\n",
    "- State any potential limitations\n",
    "- Summarize finds for the purpose of the analysis\n",
    "- Brief example:\n",
    "\n",
    "Our purpose for this analysis is to simply explain the daily number of cyclists crossing the Brooklyn Bridge in terms of factors such as temperature and precipitation.  While it seems likely that there may be other external variable that would further improve our models, such as events in the city or subway delays, this model seems characterize crossings well.  That is, precipitation, temperature, and weekdays, for example, are certainly associated, if not contribute to the number of daily crossings."
   ]
  },
  {
   "cell_type": "code",
   "execution_count": 40,
   "id": "approved-venice",
   "metadata": {
    "scrolled": true
   },
   "outputs": [
    {
     "data": {
      "text/html": [
       "<div>\n",
       "<style scoped>\n",
       "    .dataframe tbody tr th:only-of-type {\n",
       "        vertical-align: middle;\n",
       "    }\n",
       "\n",
       "    .dataframe tbody tr th {\n",
       "        vertical-align: top;\n",
       "    }\n",
       "\n",
       "    .dataframe thead th {\n",
       "        text-align: right;\n",
       "    }\n",
       "</style>\n",
       "<table border=\"1\" class=\"dataframe\">\n",
       "  <thead>\n",
       "    <tr style=\"text-align: right;\">\n",
       "      <th></th>\n",
       "      <th>Rate</th>\n",
       "      <th>Lower</th>\n",
       "      <th>Upper</th>\n",
       "      <th>pvalue</th>\n",
       "    </tr>\n",
       "  </thead>\n",
       "  <tbody>\n",
       "    <tr>\n",
       "      <th>Intercept</th>\n",
       "      <td>1296.57</td>\n",
       "      <td>976.87</td>\n",
       "      <td>1720.91</td>\n",
       "      <td>0.000</td>\n",
       "    </tr>\n",
       "    <tr>\n",
       "      <th>MONTH[T.Aug]</th>\n",
       "      <td>1.25</td>\n",
       "      <td>1.08</td>\n",
       "      <td>1.43</td>\n",
       "      <td>0.002</td>\n",
       "    </tr>\n",
       "    <tr>\n",
       "      <th>MONTH[T.Jul]</th>\n",
       "      <td>1.14</td>\n",
       "      <td>0.98</td>\n",
       "      <td>1.32</td>\n",
       "      <td>0.097</td>\n",
       "    </tr>\n",
       "    <tr>\n",
       "      <th>MONTH[T.Jun]</th>\n",
       "      <td>1.16</td>\n",
       "      <td>1.01</td>\n",
       "      <td>1.33</td>\n",
       "      <td>0.040</td>\n",
       "    </tr>\n",
       "    <tr>\n",
       "      <th>MONTH[T.May]</th>\n",
       "      <td>1.10</td>\n",
       "      <td>0.97</td>\n",
       "      <td>1.24</td>\n",
       "      <td>0.137</td>\n",
       "    </tr>\n",
       "    <tr>\n",
       "      <th>MONTH[T.Oct]</th>\n",
       "      <td>1.11</td>\n",
       "      <td>0.98</td>\n",
       "      <td>1.25</td>\n",
       "      <td>0.094</td>\n",
       "    </tr>\n",
       "    <tr>\n",
       "      <th>MONTH[T.Sep]</th>\n",
       "      <td>1.16</td>\n",
       "      <td>1.02</td>\n",
       "      <td>1.32</td>\n",
       "      <td>0.027</td>\n",
       "    </tr>\n",
       "    <tr>\n",
       "      <th>DAY</th>\n",
       "      <td>1.00</td>\n",
       "      <td>1.00</td>\n",
       "      <td>1.00</td>\n",
       "      <td>0.697</td>\n",
       "    </tr>\n",
       "    <tr>\n",
       "      <th>WEEKEND</th>\n",
       "      <td>0.89</td>\n",
       "      <td>0.83</td>\n",
       "      <td>0.95</td>\n",
       "      <td>0.001</td>\n",
       "    </tr>\n",
       "    <tr>\n",
       "      <th>HIGH_T10</th>\n",
       "      <td>1.28</td>\n",
       "      <td>1.20</td>\n",
       "      <td>1.37</td>\n",
       "      <td>0.000</td>\n",
       "    </tr>\n",
       "    <tr>\n",
       "      <th>LOW_T10</th>\n",
       "      <td>0.83</td>\n",
       "      <td>0.76</td>\n",
       "      <td>0.90</td>\n",
       "      <td>0.000</td>\n",
       "    </tr>\n",
       "    <tr>\n",
       "      <th>PRECIP</th>\n",
       "      <td>0.46</td>\n",
       "      <td>0.40</td>\n",
       "      <td>0.54</td>\n",
       "      <td>0.000</td>\n",
       "    </tr>\n",
       "  </tbody>\n",
       "</table>\n",
       "</div>"
      ],
      "text/plain": [
       "                 Rate   Lower    Upper  pvalue\n",
       "Intercept     1296.57  976.87  1720.91   0.000\n",
       "MONTH[T.Aug]     1.25    1.08     1.43   0.002\n",
       "MONTH[T.Jul]     1.14    0.98     1.32   0.097\n",
       "MONTH[T.Jun]     1.16    1.01     1.33   0.040\n",
       "MONTH[T.May]     1.10    0.97     1.24   0.137\n",
       "MONTH[T.Oct]     1.11    0.98     1.25   0.094\n",
       "MONTH[T.Sep]     1.16    1.02     1.32   0.027\n",
       "DAY              1.00    1.00     1.00   0.697\n",
       "WEEKEND          0.89    0.83     0.95   0.001\n",
       "HIGH_T10         1.28    1.20     1.37   0.000\n",
       "LOW_T10          0.83    0.76     0.90   0.000\n",
       "PRECIP           0.46    0.40     0.54   0.000"
      ]
     },
     "execution_count": 40,
     "metadata": {},
     "output_type": "execute_result"
    }
   ],
   "source": [
    "params = pd.DataFrame({'Rate': bikePoisOD.params})\n",
    "ci_table = bikePoisOD.conf_int().rename(columns={0:\"Lower\", 1:\"Upper\"})\n",
    "bike_table = params.join(ci_table).applymap(np.exp).round(2)\n",
    "bike_table['pvalue'] = bikePoisOD.pvalues.round(3)\n",
    "bike_table"
   ]
  },
  {
   "cell_type": "markdown",
   "id": "electronic-mattress",
   "metadata": {},
   "source": [
    "Question: There is always a single best model\n",
    "- a) True\n",
    "- b) False\n",
    "\n",
    "\n",
    "Question: In order to use AIC, I must understand the underlying math\n",
    "- a) True\n",
    "- b) False\n",
    "\n",
    "\n",
    "Check-in: How do you feel about the first assignment?\n",
    "- a) Good, I understand the expectations and I feel that I have the skills to do a good job\n",
    "- b) Unsure, I understand the expectations but I feel that I'm missing some of the skills necessary to do a good job\n",
    "- c) Not good, I am unclear of the expectations"
   ]
  }
 ],
 "metadata": {
  "kernelspec": {
   "display_name": "Python 3",
   "language": "python",
   "name": "python3"
  },
  "language_info": {
   "codemirror_mode": {
    "name": "ipython",
    "version": 3
   },
   "file_extension": ".py",
   "mimetype": "text/x-python",
   "name": "python",
   "nbconvert_exporter": "python",
   "pygments_lexer": "ipython3",
   "version": "3.9.6"
  }
 },
 "nbformat": 4,
 "nbformat_minor": 5
}
