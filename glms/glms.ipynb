{
 "cells": [
  {
   "cell_type": "markdown",
   "id": "recognized-armstrong",
   "metadata": {
    "slideshow": {
     "slide_type": "slide"
    }
   },
   "source": [
    "## Stats 504: Practice and Communication in Applied Statistics\n",
    "\n",
    "Overall goal: Prepare students to provide master-level statistical support for collaborative, interdisciplinary work and research\n",
    "\n",
    "- Communicating statistics with non-statistical experts\n",
    "- Understanding statistical theory and limitations\n",
    "- Data formatting and statistical programming\n",
    "- Clear, effective writing\n",
    "- Using graphics to communicate ideas"
   ]
  },
  {
   "cell_type": "markdown",
   "id": "valid-craps",
   "metadata": {
    "slideshow": {
     "slide_type": "slide"
    }
   },
   "source": [
    "## About me\n",
    "- Joint PhD at Carnegie Mellon University in Engineering & Public Policy and in Statistics & Data Science\n",
    "- Second year postdoc at UM in the network statistics research group\n",
    "- Worked as a master-level biostatistician for 5 years in HIV/STI research before PhD\n",
    " - 60% data formatting and cleaning\n",
    " - Collaborators expected me to also be an expert in HIV/STI, present at conferences\n",
    " - Needed to use methods I never learned before\n",
    " - Communicate statistical material with non-statistical experts\n",
    " - Gave me some real-world statistical background before my PhD"
   ]
  },
  {
   "cell_type": "markdown",
   "id": "suburban-sigma",
   "metadata": {
    "slideshow": {
     "slide_type": "slide"
    }
   },
   "source": [
    "## Course Layout\n",
    "\n",
    "- Lectures will be modeled as case studies\n",
    "    - Exploratory Data Analysis (EDA)\n",
    "    - Methods and strategies\n",
    "    - Tips for communication\n",
    "    - Code will be in either python3 or R\n",
    "\n",
    "\n",
    "- [Canvas](https://umich.instructure.com/courses/516710)\n",
    "    - submit assignments\n",
    "    - get course materials\n",
    "    - grading\n",
    "    - lecture capture\n",
    "\n",
    "\n",
    "- [iClicker](https://www.iclicker.com) mobile app to survey class\n",
    "    - 5% of grade\n",
    "    - 1 point for each lecture with 75% response rate\n",
    "\n",
    "\n",
    "- [Github](https://github.com/omesner/UMSTATS504)\n",
    "    - course materials\n",
    "    - may be more up-to-date then canvas\n",
    "\n",
    "\n",
    "- [Piazza](https://piazza.com/class/ky0bk6zt4jo792?cid=6)\n",
    "    - Ask questions that will be helpful to the class\n",
    "\n",
    "\n",
    "- [Zoom](https://umich.zoom.us/j/93271688199)\n",
    "    - For when you are sick\n",
    "    - In person is encouraged\n",
    "    - Policies may change if in-person attendance is low\n",
    "\n",
    "\n",
    "- Homework\n",
    "    - Attempts to simulate work experience\n",
    "    - Individual assignments are 3 pages (not including graphics/tables), well-written memo of finding for non-statistical audience\n",
    "    - Group work is typically 5 pages\n",
    "    - Must include reproducible code appendix (does not count toward page count), typically in Jupyter Notebook or Rmarkdown\n",
    "    - Submitted through Canvas as a **single** PDF file\n",
    "\n",
    "\n",
    "- [Writing tips](http://dept.stat.lsa.umich.edu/~kshedden/stats504/topics/writing_tips/)\n",
    "\n",
    "\n",
    "- Reproducible code makes your work more transparent to others.  You will be required to submit your reproducible code: [Rmarkdown](https://rmarkdown.rstudio.com), [Jupyter notebook](https://jupyter.org)\n",
    "\n",
    "\n",
    "- [Jupyter notebook tutorial](https://www.dataquest.io/blog/jupyter-notebook-tutorial/), [Rmarkdown tutorial](https://r4ds.had.co.nz/r-markdown.html)\n",
    "\n",
    "\n",
    "- **Question**: Have you used either of these before?\n",
    "\n",
    "    a. Yes\n",
    "    \n",
    "    b. No\n",
    "\n",
    "\n",
    "- Assignments will be assess on writing quality, clarity, reproducible code, statistical correctness"
   ]
  },
  {
   "cell_type": "markdown",
   "id": "radio-english",
   "metadata": {
    "slideshow": {
     "slide_type": "slide"
    }
   },
   "source": [
    "### Student Well-Being\n",
    "\n",
    "- Experiencing some amount of stress during graduate school is normal\n",
    "\n",
    "\n",
    "- Too much stress can impact academic performance and personal well-being\n",
    "\n",
    "\n",
    "- In academia, evaluation is necessary but also a significant source of stress for many\n",
    "\n",
    "\n",
    "- In this course, we will be evaluating your writing quality, code, graphics, and tables\n",
    "\n",
    "\n",
    "- Reading critiques can be difficult but are meant to help develop professional skills\n",
    "\n",
    "\n",
    "- My goal is to develop your skills\n",
    "\n",
    "\n",
    "- I want to be aware of the time assignments take\n",
    "\n",
    "\n",
    "- I want your feedback\n",
    "\n",
    "\n",
    "- Generally, if you are experiencing concerns related to this course or otherwise, please contact me (omesner@umich.edu) so that we can work on solutions\n",
    "\n",
    "\n",
    "- Other [resources for student well-being](https://wellbeing.studentlife.umich.edu/resources-list)"
   ]
  },
  {
   "cell_type": "markdown",
   "id": "altered-lover",
   "metadata": {
    "slideshow": {
     "slide_type": "slide"
    }
   },
   "source": [
    "## Case Study: Derogatory Credit Reports\n",
    "\n",
    "- Our client is an economist working at a major credit card company\n",
    "\n",
    "\n",
    "- She would like to identify factors that could potentially contribute to the number of derogatory reports on a credit card applicant's credit history\n",
    "\n",
    "\n",
    "- The most common reasons for derogatory credit reports on an individual's credit history include missed payments, bankruptcy, repossessions, and foreclosures.\n",
    "\n",
    "\n",
    "- Most individual reports will stay on someone’s credit history for up to seven years to ten years.\n",
    "\n",
    "\n",
    "- The client's company collected data from individual credit card applications and other background information the company uses to determine the suitability of issuing a credit card to the applicant.\n",
    "\n",
    "\n",
    "Data dictionary:\n",
    "\n",
    "card - was the application for a credit card accepted?  The variables included contributed to determining this.\n",
    "\n",
    "reports - number of derogatory reports\n",
    "\n",
    "age -  applicant age in years at time of application\n",
    "\n",
    "income - yearly income in 10,000 USD\n",
    "\n",
    "share - ratio of monthly credit card expenditure to yearly income (generated from income and expenditure)\n",
    "\n",
    "expenditure - average monthly credit card expenditure\n",
    "\n",
    "owner - does the applicant own their home?\n",
    "\n",
    "selfemp - is the individual self-employed?\n",
    "\n",
    "dependents - number of dependents\n",
    "\n",
    "months - number of months living at current address\n",
    "\n",
    "majorcards - does the applicant have other major credit cards?\n",
    "\n",
    "active - number of active credit accounts\n",
    "\n",
    "\n",
    "Question: What types of regression might we consider here?\n",
    "\n",
    "    a. Linear regression\n",
    "    b. Negative binomial regression\n",
    "    c. Poisson regression\n",
    "    d. Gamma regression\n",
    "    e. Not sure yet"
   ]
  },
  {
   "cell_type": "code",
   "execution_count": 1,
   "id": "infinite-boxing",
   "metadata": {
    "slideshow": {
     "slide_type": "subslide"
    }
   },
   "outputs": [],
   "source": [
    "%%capture\n",
    "%pip install pandas\n",
    "%pip install statsmodels\n",
    "%pip install numpy\n",
    "%pip install matplotlib"
   ]
  },
  {
   "cell_type": "markdown",
   "id": "color-karaoke",
   "metadata": {
    "slideshow": {
     "slide_type": "slide"
    }
   },
   "source": [
    "Above: you can remove suppress unhelpful output in Jupyter notebook with `%%capture`\n",
    "\n",
    "Below: importing the following modules"
   ]
  },
  {
   "cell_type": "code",
   "execution_count": 2,
   "id": "olive-deadline",
   "metadata": {
    "scrolled": true,
    "slideshow": {
     "slide_type": "slide"
    }
   },
   "outputs": [],
   "source": [
    "import pandas as pd\n",
    "import numpy as np\n",
    "import statsmodels.api as sm\n",
    "from statsmodels.graphics.api import abline_plot\n",
    "import matplotlib.pyplot as plt\n",
    "%matplotlib inline"
   ]
  },
  {
   "cell_type": "markdown",
   "id": "trying-stake",
   "metadata": {
    "slideshow": {
     "slide_type": "slide"
    }
   },
   "source": [
    "- First several lines of data file (normally you can just open the file)"
   ]
  },
  {
   "cell_type": "code",
   "execution_count": 3,
   "id": "applicable-trauma",
   "metadata": {
    "slideshow": {
     "slide_type": "subslide"
    }
   },
   "outputs": [
    {
     "name": "stdout",
     "output_type": "stream",
     "text": [
      "\"card\",\"reports\",\"age\",\"income\",\"share\",\"expenditure\",\"owner\",\"selfemp\",\"dependents\",\"months\",\"majorcards\",\"active\"\n",
      "\n",
      "\"yes\",0,37.66667,4.52,0.03326991,124.9833,\"yes\",\"no\",3,54,\"yes\",12\n",
      "\n",
      "\"yes\",0,33.25,2.42,0.005216942,9.854167,\"no\",\"no\",3,34,\"yes\",13\n",
      "\n",
      "\"yes\",0,33.66667,4.5,0.004155556,15,\"yes\",\"no\",4,58,\"yes\",5\n",
      "\n",
      "\"yes\",0,30.5,2.54,0.06521378,137.8692,\"no\",\"no\",0,25,\"yes\",7\n",
      "\n",
      "\"yes\",0,32.16667,9.7867,0.06705059,546.5033,\"yes\",\"no\",2,64,\"yes\",5\n",
      "\n"
     ]
    }
   ],
   "source": [
    "file = open('derogatory.csv')\n",
    "for _ in range(6):\n",
    "    print(file.readline())"
   ]
  },
  {
   "cell_type": "markdown",
   "id": "electronic-casting",
   "metadata": {
    "slideshow": {
     "slide_type": "slide"
    }
   },
   "source": [
    "Read in data"
   ]
  },
  {
   "cell_type": "code",
   "execution_count": 4,
   "id": "british-transformation",
   "metadata": {
    "scrolled": true,
    "slideshow": {
     "slide_type": "subslide"
    }
   },
   "outputs": [],
   "source": [
    "df = pd.read_csv('derogatory.csv')"
   ]
  },
  {
   "cell_type": "markdown",
   "id": "checked-stability",
   "metadata": {
    "slideshow": {
     "slide_type": "slide"
    }
   },
   "source": [
    "Visually inspecting data"
   ]
  },
  {
   "cell_type": "code",
   "execution_count": 5,
   "id": "prescription-gauge",
   "metadata": {
    "scrolled": true,
    "slideshow": {
     "slide_type": "subslide"
    }
   },
   "outputs": [
    {
     "data": {
      "text/html": [
       "<div>\n",
       "<style scoped>\n",
       "    .dataframe tbody tr th:only-of-type {\n",
       "        vertical-align: middle;\n",
       "    }\n",
       "\n",
       "    .dataframe tbody tr th {\n",
       "        vertical-align: top;\n",
       "    }\n",
       "\n",
       "    .dataframe thead th {\n",
       "        text-align: right;\n",
       "    }\n",
       "</style>\n",
       "<table border=\"1\" class=\"dataframe\">\n",
       "  <thead>\n",
       "    <tr style=\"text-align: right;\">\n",
       "      <th></th>\n",
       "      <th>card</th>\n",
       "      <th>reports</th>\n",
       "      <th>age</th>\n",
       "      <th>income</th>\n",
       "      <th>share</th>\n",
       "      <th>expenditure</th>\n",
       "      <th>owner</th>\n",
       "      <th>selfemp</th>\n",
       "      <th>dependents</th>\n",
       "      <th>months</th>\n",
       "      <th>majorcards</th>\n",
       "      <th>active</th>\n",
       "    </tr>\n",
       "  </thead>\n",
       "  <tbody>\n",
       "    <tr>\n",
       "      <th>0</th>\n",
       "      <td>yes</td>\n",
       "      <td>0</td>\n",
       "      <td>37.66667</td>\n",
       "      <td>4.5200</td>\n",
       "      <td>0.033270</td>\n",
       "      <td>124.983300</td>\n",
       "      <td>yes</td>\n",
       "      <td>no</td>\n",
       "      <td>3</td>\n",
       "      <td>54</td>\n",
       "      <td>yes</td>\n",
       "      <td>12</td>\n",
       "    </tr>\n",
       "    <tr>\n",
       "      <th>1</th>\n",
       "      <td>yes</td>\n",
       "      <td>0</td>\n",
       "      <td>33.25000</td>\n",
       "      <td>2.4200</td>\n",
       "      <td>0.005217</td>\n",
       "      <td>9.854167</td>\n",
       "      <td>no</td>\n",
       "      <td>no</td>\n",
       "      <td>3</td>\n",
       "      <td>34</td>\n",
       "      <td>yes</td>\n",
       "      <td>13</td>\n",
       "    </tr>\n",
       "    <tr>\n",
       "      <th>2</th>\n",
       "      <td>yes</td>\n",
       "      <td>0</td>\n",
       "      <td>33.66667</td>\n",
       "      <td>4.5000</td>\n",
       "      <td>0.004156</td>\n",
       "      <td>15.000000</td>\n",
       "      <td>yes</td>\n",
       "      <td>no</td>\n",
       "      <td>4</td>\n",
       "      <td>58</td>\n",
       "      <td>yes</td>\n",
       "      <td>5</td>\n",
       "    </tr>\n",
       "    <tr>\n",
       "      <th>3</th>\n",
       "      <td>yes</td>\n",
       "      <td>0</td>\n",
       "      <td>30.50000</td>\n",
       "      <td>2.5400</td>\n",
       "      <td>0.065214</td>\n",
       "      <td>137.869200</td>\n",
       "      <td>no</td>\n",
       "      <td>no</td>\n",
       "      <td>0</td>\n",
       "      <td>25</td>\n",
       "      <td>yes</td>\n",
       "      <td>7</td>\n",
       "    </tr>\n",
       "    <tr>\n",
       "      <th>4</th>\n",
       "      <td>yes</td>\n",
       "      <td>0</td>\n",
       "      <td>32.16667</td>\n",
       "      <td>9.7867</td>\n",
       "      <td>0.067051</td>\n",
       "      <td>546.503300</td>\n",
       "      <td>yes</td>\n",
       "      <td>no</td>\n",
       "      <td>2</td>\n",
       "      <td>64</td>\n",
       "      <td>yes</td>\n",
       "      <td>5</td>\n",
       "    </tr>\n",
       "    <tr>\n",
       "      <th>5</th>\n",
       "      <td>yes</td>\n",
       "      <td>0</td>\n",
       "      <td>23.25000</td>\n",
       "      <td>2.5000</td>\n",
       "      <td>0.044438</td>\n",
       "      <td>91.996670</td>\n",
       "      <td>no</td>\n",
       "      <td>no</td>\n",
       "      <td>0</td>\n",
       "      <td>54</td>\n",
       "      <td>yes</td>\n",
       "      <td>1</td>\n",
       "    </tr>\n",
       "    <tr>\n",
       "      <th>6</th>\n",
       "      <td>yes</td>\n",
       "      <td>0</td>\n",
       "      <td>27.91667</td>\n",
       "      <td>3.9600</td>\n",
       "      <td>0.012576</td>\n",
       "      <td>40.833330</td>\n",
       "      <td>no</td>\n",
       "      <td>no</td>\n",
       "      <td>2</td>\n",
       "      <td>7</td>\n",
       "      <td>yes</td>\n",
       "      <td>5</td>\n",
       "    </tr>\n",
       "    <tr>\n",
       "      <th>7</th>\n",
       "      <td>yes</td>\n",
       "      <td>0</td>\n",
       "      <td>29.16667</td>\n",
       "      <td>2.3700</td>\n",
       "      <td>0.076434</td>\n",
       "      <td>150.790000</td>\n",
       "      <td>yes</td>\n",
       "      <td>no</td>\n",
       "      <td>0</td>\n",
       "      <td>77</td>\n",
       "      <td>yes</td>\n",
       "      <td>3</td>\n",
       "    </tr>\n",
       "    <tr>\n",
       "      <th>8</th>\n",
       "      <td>yes</td>\n",
       "      <td>0</td>\n",
       "      <td>37.00000</td>\n",
       "      <td>3.8000</td>\n",
       "      <td>0.245628</td>\n",
       "      <td>777.821700</td>\n",
       "      <td>yes</td>\n",
       "      <td>no</td>\n",
       "      <td>0</td>\n",
       "      <td>97</td>\n",
       "      <td>yes</td>\n",
       "      <td>6</td>\n",
       "    </tr>\n",
       "    <tr>\n",
       "      <th>9</th>\n",
       "      <td>yes</td>\n",
       "      <td>0</td>\n",
       "      <td>28.41667</td>\n",
       "      <td>3.2000</td>\n",
       "      <td>0.019780</td>\n",
       "      <td>52.580000</td>\n",
       "      <td>no</td>\n",
       "      <td>no</td>\n",
       "      <td>0</td>\n",
       "      <td>65</td>\n",
       "      <td>yes</td>\n",
       "      <td>18</td>\n",
       "    </tr>\n",
       "  </tbody>\n",
       "</table>\n",
       "</div>"
      ],
      "text/plain": [
       "  card  reports       age  income     share  expenditure owner selfemp  \\\n",
       "0  yes        0  37.66667  4.5200  0.033270   124.983300   yes      no   \n",
       "1  yes        0  33.25000  2.4200  0.005217     9.854167    no      no   \n",
       "2  yes        0  33.66667  4.5000  0.004156    15.000000   yes      no   \n",
       "3  yes        0  30.50000  2.5400  0.065214   137.869200    no      no   \n",
       "4  yes        0  32.16667  9.7867  0.067051   546.503300   yes      no   \n",
       "5  yes        0  23.25000  2.5000  0.044438    91.996670    no      no   \n",
       "6  yes        0  27.91667  3.9600  0.012576    40.833330    no      no   \n",
       "7  yes        0  29.16667  2.3700  0.076434   150.790000   yes      no   \n",
       "8  yes        0  37.00000  3.8000  0.245628   777.821700   yes      no   \n",
       "9  yes        0  28.41667  3.2000  0.019780    52.580000    no      no   \n",
       "\n",
       "   dependents  months majorcards  active  \n",
       "0           3      54        yes      12  \n",
       "1           3      34        yes      13  \n",
       "2           4      58        yes       5  \n",
       "3           0      25        yes       7  \n",
       "4           2      64        yes       5  \n",
       "5           0      54        yes       1  \n",
       "6           2       7        yes       5  \n",
       "7           0      77        yes       3  \n",
       "8           0      97        yes       6  \n",
       "9           0      65        yes      18  "
      ]
     },
     "execution_count": 5,
     "metadata": {},
     "output_type": "execute_result"
    }
   ],
   "source": [
    "df.head(10)"
   ]
  },
  {
   "cell_type": "markdown",
   "id": "prompt-rochester",
   "metadata": {
    "slideshow": {
     "slide_type": "slide"
    }
   },
   "source": [
    "#### Size of data\n",
    "- Size of dataset: (rows, columns)"
   ]
  },
  {
   "cell_type": "code",
   "execution_count": 6,
   "id": "outstanding-queen",
   "metadata": {
    "scrolled": true,
    "slideshow": {
     "slide_type": "subslide"
    }
   },
   "outputs": [
    {
     "data": {
      "text/plain": [
       "(1319, 12)"
      ]
     },
     "execution_count": 6,
     "metadata": {},
     "output_type": "execute_result"
    }
   ],
   "source": [
    "df.shape"
   ]
  },
  {
   "cell_type": "markdown",
   "id": "published-trouble",
   "metadata": {},
   "source": [
    "- Normally we will use this info like this in the body of the beginning of the results:\n",
    "\n",
    "The data were were collected from individual credit card applications; each row represents an individual applicant.\n",
    "In total, the data contain 1,319 applicants (rows) each with 12 variables."
   ]
  },
  {
   "cell_type": "markdown",
   "id": "extraordinary-arctic",
   "metadata": {
    "slideshow": {
     "slide_type": "slide"
    }
   },
   "source": [
    "#### Baseline data description\n",
    "\n",
    "- Show the number of missing variables\n",
    "\n",
    "\n",
    "- show means and st dev\n",
    "\n",
    "\n",
    "- overall order statistics\n",
    "\n",
    "\n",
    "- Frequently, applied papers will want to see a table giving mean (st dev) or medians (IQR)"
   ]
  },
  {
   "cell_type": "code",
   "execution_count": 7,
   "id": "hungry-profit",
   "metadata": {
    "scrolled": true,
    "slideshow": {
     "slide_type": "subslide"
    }
   },
   "outputs": [
    {
     "data": {
      "text/html": [
       "<div>\n",
       "<style scoped>\n",
       "    .dataframe tbody tr th:only-of-type {\n",
       "        vertical-align: middle;\n",
       "    }\n",
       "\n",
       "    .dataframe tbody tr th {\n",
       "        vertical-align: top;\n",
       "    }\n",
       "\n",
       "    .dataframe thead th {\n",
       "        text-align: right;\n",
       "    }\n",
       "</style>\n",
       "<table border=\"1\" class=\"dataframe\">\n",
       "  <thead>\n",
       "    <tr style=\"text-align: right;\">\n",
       "      <th></th>\n",
       "      <th>count</th>\n",
       "      <th>mean</th>\n",
       "      <th>std</th>\n",
       "      <th>min</th>\n",
       "      <th>25%</th>\n",
       "      <th>50%</th>\n",
       "      <th>75%</th>\n",
       "      <th>max</th>\n",
       "    </tr>\n",
       "  </thead>\n",
       "  <tbody>\n",
       "    <tr>\n",
       "      <th>reports</th>\n",
       "      <td>1319.0</td>\n",
       "      <td>0.46</td>\n",
       "      <td>1.35</td>\n",
       "      <td>0.00</td>\n",
       "      <td>0.00</td>\n",
       "      <td>0.00</td>\n",
       "      <td>0.00</td>\n",
       "      <td>14.00</td>\n",
       "    </tr>\n",
       "    <tr>\n",
       "      <th>age</th>\n",
       "      <td>1319.0</td>\n",
       "      <td>33.21</td>\n",
       "      <td>10.14</td>\n",
       "      <td>0.17</td>\n",
       "      <td>25.42</td>\n",
       "      <td>31.25</td>\n",
       "      <td>39.42</td>\n",
       "      <td>83.50</td>\n",
       "    </tr>\n",
       "    <tr>\n",
       "      <th>income</th>\n",
       "      <td>1319.0</td>\n",
       "      <td>3.37</td>\n",
       "      <td>1.69</td>\n",
       "      <td>0.21</td>\n",
       "      <td>2.24</td>\n",
       "      <td>2.90</td>\n",
       "      <td>4.00</td>\n",
       "      <td>13.50</td>\n",
       "    </tr>\n",
       "    <tr>\n",
       "      <th>share</th>\n",
       "      <td>1319.0</td>\n",
       "      <td>0.07</td>\n",
       "      <td>0.09</td>\n",
       "      <td>0.00</td>\n",
       "      <td>0.00</td>\n",
       "      <td>0.04</td>\n",
       "      <td>0.09</td>\n",
       "      <td>0.91</td>\n",
       "    </tr>\n",
       "    <tr>\n",
       "      <th>expenditure</th>\n",
       "      <td>1319.0</td>\n",
       "      <td>185.06</td>\n",
       "      <td>272.22</td>\n",
       "      <td>0.00</td>\n",
       "      <td>4.58</td>\n",
       "      <td>101.30</td>\n",
       "      <td>249.04</td>\n",
       "      <td>3099.50</td>\n",
       "    </tr>\n",
       "    <tr>\n",
       "      <th>dependents</th>\n",
       "      <td>1319.0</td>\n",
       "      <td>0.99</td>\n",
       "      <td>1.25</td>\n",
       "      <td>0.00</td>\n",
       "      <td>0.00</td>\n",
       "      <td>1.00</td>\n",
       "      <td>2.00</td>\n",
       "      <td>6.00</td>\n",
       "    </tr>\n",
       "    <tr>\n",
       "      <th>months</th>\n",
       "      <td>1319.0</td>\n",
       "      <td>55.27</td>\n",
       "      <td>66.27</td>\n",
       "      <td>0.00</td>\n",
       "      <td>12.00</td>\n",
       "      <td>30.00</td>\n",
       "      <td>72.00</td>\n",
       "      <td>540.00</td>\n",
       "    </tr>\n",
       "    <tr>\n",
       "      <th>active</th>\n",
       "      <td>1319.0</td>\n",
       "      <td>7.00</td>\n",
       "      <td>6.31</td>\n",
       "      <td>0.00</td>\n",
       "      <td>2.00</td>\n",
       "      <td>6.00</td>\n",
       "      <td>11.00</td>\n",
       "      <td>46.00</td>\n",
       "    </tr>\n",
       "  </tbody>\n",
       "</table>\n",
       "</div>"
      ],
      "text/plain": [
       "              count    mean     std   min    25%     50%     75%      max\n",
       "reports      1319.0    0.46    1.35  0.00   0.00    0.00    0.00    14.00\n",
       "age          1319.0   33.21   10.14  0.17  25.42   31.25   39.42    83.50\n",
       "income       1319.0    3.37    1.69  0.21   2.24    2.90    4.00    13.50\n",
       "share        1319.0    0.07    0.09  0.00   0.00    0.04    0.09     0.91\n",
       "expenditure  1319.0  185.06  272.22  0.00   4.58  101.30  249.04  3099.50\n",
       "dependents   1319.0    0.99    1.25  0.00   0.00    1.00    2.00     6.00\n",
       "months       1319.0   55.27   66.27  0.00  12.00   30.00   72.00   540.00\n",
       "active       1319.0    7.00    6.31  0.00   2.00    6.00   11.00    46.00"
      ]
     },
     "execution_count": 7,
     "metadata": {},
     "output_type": "execute_result"
    }
   ],
   "source": [
    "df.describe().round(2).transpose()"
   ]
  },
  {
   "cell_type": "markdown",
   "id": "urban-candy",
   "metadata": {},
   "source": [
    "- `describe` only shows numeric variables\n",
    "- below is one way to get percentages for categorical variables"
   ]
  },
  {
   "cell_type": "code",
   "execution_count": 8,
   "id": "proved-angel",
   "metadata": {},
   "outputs": [
    {
     "name": "stdout",
     "output_type": "stream",
     "text": [
      "card\n",
      "yes    0.775588\n",
      "no     0.224412\n",
      "Name: card, dtype: float64\n",
      "owner\n",
      "no     0.559515\n",
      "yes    0.440485\n",
      "Name: owner, dtype: float64\n",
      "selfemp\n",
      "no     0.931008\n",
      "yes    0.068992\n",
      "Name: selfemp, dtype: float64\n",
      "majorcards\n",
      "yes    0.817286\n",
      "no     0.182714\n",
      "Name: majorcards, dtype: float64\n"
     ]
    }
   ],
   "source": [
    "def get_categorical_percentages(df):\n",
    "    cat_df = df.select_dtypes(exclude=np.number)\n",
    "    for var in cat_df.columns:\n",
    "        perc = df[var].value_counts() / df[var].count()\n",
    "        print(var)\n",
    "        print(perc)\n",
    "        \n",
    "get_categorical_percentages(df)"
   ]
  },
  {
   "cell_type": "markdown",
   "id": "stable-challenge",
   "metadata": {},
   "source": [
    "- The table above is quick to make but not immediately clear without context\n",
    "\n",
    "\n",
    "- Table should be formatted with easily understandable text description and units\n",
    "- There should be a caption\n",
    "- The number of significant digits may change from variable to variable\n",
    "- You can also choose to show mean and standard deviation\n",
    "\n",
    "| Variable | Median (IQR) or Percent |\n",
    "| --- | --- |\n",
    "| Age (years) | 31.25 (25.42, 39.42) |\n",
    "| Yearly Income (10,000 USD) | 2.90 (2.24, 4.00) |\n",
    "| Average Monthly Credit Card Expenditure | 101.30 (4.58, 249.04) |\n",
    "| Homeowner (%) | 44.0 |\n",
    "| Self Employed (%) | 6.9 |\n",
    "| Number of Dependents | 1 (0, 2) |\n",
    "| Months Living at Current Address | 30 (12, 72) |\n",
    "| Has other major credit cards (%) | 81.7 |\n",
    "| Number of Active Credit Accounts | 6 (2, 11) |\n",
    "\n",
    "Table 1: The table above shows either the median value for each variable in the data with its interquartile range (25%, 75%) or percent of data for yes/no variables.\n",
    "\n",
    "- Notice that I didn't include reports, share and card\n",
    "    - reports is the outcome so I will pay special attention to it\n",
    "    - from the data dictionary, share = expenditure/income\n",
    "    - reports is used to decide card (if an application is approved)"
   ]
  },
  {
   "cell_type": "markdown",
   "id": "irish-somalia",
   "metadata": {},
   "source": [
    "#### Visualize variable distributions\n",
    "- Consider kinds of variables in the data\n",
    "- Consider size of dataset (rows and columns)\n",
    "- Look for anything strange in the data"
   ]
  },
  {
   "cell_type": "code",
   "execution_count": 9,
   "id": "dried-afternoon",
   "metadata": {
    "scrolled": false
   },
   "outputs": [
    {
     "data": {
      "image/png": "[encoded data removed]",
      "text/plain": [
       "<Figure size 1200x800 with 12 Axes>"
      ]
     },
     "metadata": {
      "needs_background": "light"
     },
     "output_type": "display_data"
    }
   ],
   "source": [
    "plt.rcParams['figure.figsize'] = [12, 8]\n",
    "plt.rcParams['figure.dpi'] = 100\n",
    "\n",
    "def draw_histograms(df, variables, n_rows, n_cols):\n",
    "    fig=plt.figure()\n",
    "    for i, var_name in enumerate(variables):\n",
    "        ax=fig.add_subplot(n_rows,n_cols,i+1)\n",
    "        df[var_name].hist(ax=ax)\n",
    "        ax.set_title(var_name)\n",
    "    fig.tight_layout()  # Improves appearance a bit.\n",
    "    plt.show()\n",
    "\n",
    "draw_histograms(df, df.columns, 4, 4)"
   ]
  },
  {
   "cell_type": "markdown",
   "id": "coral-fiber",
   "metadata": {},
   "source": [
    "- Typically, a plot like this belongs in the appendix where the reader can look if they want more detail than you provide in the body of the report\n",
    "    - We will give similar information in the body of the report with the table above\n",
    "\n",
    "\n",
    "- Thoughts on plots:\n",
    "    - age has some very small values\n",
    "    - reports is heavily skewed left\n",
    "    - Everything else looks normal to me\n",
    "    - reports is the outcome and because of it's unique distribution\n",
    "    - Want to illustrate the distribution of reports in body of report so I will take more time to make it look nice\n",
    "    \n",
    "- Counting number of rows with `age < 18` then removing\n",
    "    - This should mentioned in results"
   ]
  },
  {
   "cell_type": "code",
   "execution_count": 10,
   "id": "specific-edmonton",
   "metadata": {},
   "outputs": [
    {
     "name": "stdout",
     "output_type": "stream",
     "text": [
      "Number of rows with age < 18: 7\n"
     ]
    }
   ],
   "source": [
    "print(f'Number of rows with age < 18: {sum(df.age < 18)}')\n",
    "df1 = df[df.age >= 18]"
   ]
  },
  {
   "cell_type": "markdown",
   "id": "municipal-marketing",
   "metadata": {},
   "source": [
    "- creating histogram of reports for body of report\n",
    "    - anything in the body of the report should be publication quality"
   ]
  },
  {
   "cell_type": "code",
   "execution_count": 11,
   "id": "coastal-rebound",
   "metadata": {},
   "outputs": [
    {
     "data": {
      "image/png": "[encoded data removed]",
      "text/plain": [
       "<Figure size 1200x800 with 1 Axes>"
      ]
     },
     "metadata": {
      "needs_background": "light"
     },
     "output_type": "display_data"
    }
   ],
   "source": [
    "rep_range = df1.reports.max()+1\n",
    "counts = df1.reports.value_counts(sort=False).reindex(range(rep_range), fill_value=0)\n",
    "plt.bar(range(rep_range), counts)\n",
    "for index, value in enumerate(counts):\n",
    "    plt.text(index, value, str(value), horizontalalignment='center', \n",
    "             verticalalignment='bottom')\n",
    "plt.title('Frequency of Number of Derogatory Reports on Credit History')\n",
    "plt.ylabel('Frequency')\n",
    "plt.xlabel('Number of Derogatory Reports on Credit History')\n",
    "plt.show()"
   ]
  },
  {
   "cell_type": "markdown",
   "id": "forward-cedar",
   "metadata": {},
   "source": [
    "- The plot above does not make a good use of space (the majority of the plot is empty space)\n",
    "- We can fix this with a broken barplot (below)"
   ]
  },
  {
   "cell_type": "code",
   "execution_count": 12,
   "id": "expired-necessity",
   "metadata": {},
   "outputs": [
    {
     "data": {
      "image/png": "[encoded data removed]",
      "text/plain": [
       "<Figure size 1200x800 with 2 Axes>"
      ]
     },
     "metadata": {
      "needs_background": "light"
     },
     "output_type": "display_data"
    }
   ],
   "source": [
    "fig, (ax1,ax2) = plt.subplots(2,1,sharex=True,\n",
    "                             gridspec_kw={'height_ratios': [1, 3]})\n",
    "ax1.spines['bottom'].set_visible(False)\n",
    "ax1.tick_params(axis='x',which='both',bottom=False)\n",
    "ax2.spines['top'].set_visible(False)\n",
    "ax2.set_ylim(0,150)\n",
    "ax1.set_ylim(900,1070)\n",
    "ax1.set_yticks(np.arange(900,1071,50))\n",
    "counts.plot(ax=ax1,kind='bar')\n",
    "counts.plot(ax=ax2,kind='bar')\n",
    "for tick in ax2.get_xticklabels():\n",
    "    tick.set_rotation(0)\n",
    "d = .015  \n",
    "kwargs = dict(transform=ax1.transAxes, color='k', clip_on=False)\n",
    "ax1.plot((-d, +d), (-d, +d), **kwargs)      \n",
    "ax1.plot((1 - d, 1 + d), (-d, +d), **kwargs)\n",
    "kwargs.update(transform=ax2.transAxes)  \n",
    "ax2.plot((-d, +d), (1 - d, 1 + d), **kwargs)  \n",
    "ax2.plot((1 - d, 1 + d), (1 - d, 1 + d), **kwargs)\n",
    "ax2.set_xlabel('Number of Derogatory Reports', size = 12)\n",
    "fig.suptitle('Frequency of Number of Derogatory Reports on Credit History')\n",
    "fig.text(0.06, 0.5, 'Frequency', va='center', rotation='vertical', size=12)\n",
    "plt.show()"
   ]
  },
  {
   "cell_type": "markdown",
   "id": "dense-manhattan",
   "metadata": {},
   "source": [
    "#### Scatter plots"
   ]
  },
  {
   "cell_type": "code",
   "execution_count": 13,
   "id": "periodic-labor",
   "metadata": {
    "scrolled": false
   },
   "outputs": [
    {
     "data": {
      "image/png": "[encoded data removed]",
      "text/plain": [
       "<Figure size 1200x800 with 11 Axes>"
      ]
     },
     "metadata": {
      "needs_background": "light"
     },
     "output_type": "display_data"
    }
   ],
   "source": [
    "def draw_outcome_plots(df, outcome, n_rows, n_cols):\n",
    "    fig=plt.figure()\n",
    "    variables = df.columns.drop(outcome)\n",
    "    for i, var_name in enumerate(variables):\n",
    "        ax=fig.add_subplot(n_rows,n_cols,i+1)\n",
    "        if len(df[var_name].unique()) > 10:\n",
    "            df.plot.scatter(x= var_name, y= outcome, ax=ax)\n",
    "        else:\n",
    "            df.boxplot(column=outcome, by=var_name, grid = False, ax=ax)\n",
    "            ax.set(ylabel=outcome)\n",
    "        ax.set_title(var_name)\n",
    "    fig.suptitle('Scatter and Box Plots by '+outcome)\n",
    "    fig.tight_layout()\n",
    "    plt.show()\n",
    "\n",
    "draw_outcome_plots(df1, 'reports', 4, 4)"
   ]
  },
  {
   "cell_type": "markdown",
   "id": "documentary-muslim",
   "metadata": {},
   "source": [
    "### pairwise correlations\n",
    "\n",
    "- It's helpful to look at pairwise correlations\n",
    "\n",
    "\n",
    "- Question: Why do we care about this?\n",
    "\n",
    "    a. There will be redundancy in the regression design matrix\n",
    "    \n",
    "    b. Regression variance inflation\n",
    "    \n",
    "    c. We don't care about this"
   ]
  },
  {
   "cell_type": "code",
   "execution_count": 14,
   "id": "hourly-coordination",
   "metadata": {},
   "outputs": [
    {
     "data": {
      "text/html": [
       "<div>\n",
       "<style scoped>\n",
       "    .dataframe tbody tr th:only-of-type {\n",
       "        vertical-align: middle;\n",
       "    }\n",
       "\n",
       "    .dataframe tbody tr th {\n",
       "        vertical-align: top;\n",
       "    }\n",
       "\n",
       "    .dataframe thead th {\n",
       "        text-align: right;\n",
       "    }\n",
       "</style>\n",
       "<table border=\"1\" class=\"dataframe\">\n",
       "  <thead>\n",
       "    <tr style=\"text-align: right;\">\n",
       "      <th></th>\n",
       "      <th>reports</th>\n",
       "      <th>age</th>\n",
       "      <th>income</th>\n",
       "      <th>share</th>\n",
       "      <th>expenditure</th>\n",
       "      <th>dependents</th>\n",
       "      <th>months</th>\n",
       "      <th>active</th>\n",
       "    </tr>\n",
       "  </thead>\n",
       "  <tbody>\n",
       "    <tr>\n",
       "      <th>reports</th>\n",
       "      <td>1.000000</td>\n",
       "      <td>0.041255</td>\n",
       "      <td>0.010545</td>\n",
       "      <td>-0.158574</td>\n",
       "      <td>-0.136273</td>\n",
       "      <td>0.020255</td>\n",
       "      <td>0.048446</td>\n",
       "      <td>0.208139</td>\n",
       "    </tr>\n",
       "    <tr>\n",
       "      <th>age</th>\n",
       "      <td>0.041255</td>\n",
       "      <td>1.000000</td>\n",
       "      <td>0.330573</td>\n",
       "      <td>-0.115791</td>\n",
       "      <td>0.016491</td>\n",
       "      <td>0.219071</td>\n",
       "      <td>0.454619</td>\n",
       "      <td>0.185389</td>\n",
       "    </tr>\n",
       "    <tr>\n",
       "      <th>income</th>\n",
       "      <td>0.010545</td>\n",
       "      <td>0.330573</td>\n",
       "      <td>1.000000</td>\n",
       "      <td>-0.053676</td>\n",
       "      <td>0.281571</td>\n",
       "      <td>0.317409</td>\n",
       "      <td>0.130519</td>\n",
       "      <td>0.181094</td>\n",
       "    </tr>\n",
       "    <tr>\n",
       "      <th>share</th>\n",
       "      <td>-0.158574</td>\n",
       "      <td>-0.115791</td>\n",
       "      <td>-0.053676</td>\n",
       "      <td>1.000000</td>\n",
       "      <td>0.838731</td>\n",
       "      <td>-0.084685</td>\n",
       "      <td>-0.054287</td>\n",
       "      <td>-0.025525</td>\n",
       "    </tr>\n",
       "    <tr>\n",
       "      <th>expenditure</th>\n",
       "      <td>-0.136273</td>\n",
       "      <td>0.016491</td>\n",
       "      <td>0.281571</td>\n",
       "      <td>0.838731</td>\n",
       "      <td>1.000000</td>\n",
       "      <td>0.050465</td>\n",
       "      <td>-0.028117</td>\n",
       "      <td>0.053160</td>\n",
       "    </tr>\n",
       "    <tr>\n",
       "      <th>dependents</th>\n",
       "      <td>0.020255</td>\n",
       "      <td>0.219071</td>\n",
       "      <td>0.317409</td>\n",
       "      <td>-0.084685</td>\n",
       "      <td>0.050465</td>\n",
       "      <td>1.000000</td>\n",
       "      <td>0.049151</td>\n",
       "      <td>0.105744</td>\n",
       "    </tr>\n",
       "    <tr>\n",
       "      <th>months</th>\n",
       "      <td>0.048446</td>\n",
       "      <td>0.454619</td>\n",
       "      <td>0.130519</td>\n",
       "      <td>-0.054287</td>\n",
       "      <td>-0.028117</td>\n",
       "      <td>0.049151</td>\n",
       "      <td>1.000000</td>\n",
       "      <td>0.101594</td>\n",
       "    </tr>\n",
       "    <tr>\n",
       "      <th>active</th>\n",
       "      <td>0.208139</td>\n",
       "      <td>0.185389</td>\n",
       "      <td>0.181094</td>\n",
       "      <td>-0.025525</td>\n",
       "      <td>0.053160</td>\n",
       "      <td>0.105744</td>\n",
       "      <td>0.101594</td>\n",
       "      <td>1.000000</td>\n",
       "    </tr>\n",
       "  </tbody>\n",
       "</table>\n",
       "</div>"
      ],
      "text/plain": [
       "              reports       age    income     share  expenditure  dependents  \\\n",
       "reports      1.000000  0.041255  0.010545 -0.158574    -0.136273    0.020255   \n",
       "age          0.041255  1.000000  0.330573 -0.115791     0.016491    0.219071   \n",
       "income       0.010545  0.330573  1.000000 -0.053676     0.281571    0.317409   \n",
       "share       -0.158574 -0.115791 -0.053676  1.000000     0.838731   -0.084685   \n",
       "expenditure -0.136273  0.016491  0.281571  0.838731     1.000000    0.050465   \n",
       "dependents   0.020255  0.219071  0.317409 -0.084685     0.050465    1.000000   \n",
       "months       0.048446  0.454619  0.130519 -0.054287    -0.028117    0.049151   \n",
       "active       0.208139  0.185389  0.181094 -0.025525     0.053160    0.105744   \n",
       "\n",
       "               months    active  \n",
       "reports      0.048446  0.208139  \n",
       "age          0.454619  0.185389  \n",
       "income       0.130519  0.181094  \n",
       "share       -0.054287 -0.025525  \n",
       "expenditure -0.028117  0.053160  \n",
       "dependents   0.049151  0.105744  \n",
       "months       1.000000  0.101594  \n",
       "active       0.101594  1.000000  "
      ]
     },
     "execution_count": 14,
     "metadata": {},
     "output_type": "execute_result"
    }
   ],
   "source": [
    "df1.corr()"
   ]
  },
  {
   "cell_type": "markdown",
   "id": "considerable-button",
   "metadata": {},
   "source": [
    "**Coding tip: DRY - Don't Repeat Yourself**"
   ]
  },
  {
   "cell_type": "markdown",
   "id": "equipped-mention",
   "metadata": {},
   "source": [
    "## Generalized Linear Models\n",
    "- Robust class of models that are frequently used in classical statistics\n",
    "\n",
    "\n",
    "- Models a function of conditional expectation as a linear function:\n",
    "$$g(E[Y|X=x])=\\beta_0+\\beta_1x_1+\\dots+\\beta_px_p$$\n",
    "\n",
    "\n",
    "- $g$ called a link function and should be invertible\n",
    "$$E[Y|X=x]=g^{-1}(\\beta_0+\\beta_1x_1+\\dots+\\beta_px_p)$$\n",
    "\n",
    "\n",
    "- Most common link functions are $g(x)=x$ and $g(x)=\\log(x)$\n",
    "\n",
    "\n",
    "- How is $g(E[Y|X=x])$ different from $E[g(Y)|X=x]$?\n",
    "\n",
    "\n",
    "- Two examples:\n",
    " * *Gaussian linear model:* \n",
    " * *Poisson log-linear mode:*\n",
    " \n",
    " \n",
    "- In general, which model to use depends on the distribution of $Y$\n",
    "\n",
    "\n",
    "- GLMs specify both conditional mean structure and conditional variance structure\n",
    "\n",
    "\n",
    "- example: $Y|X=x\\sim \\text{Poisson}(x)$ then $E[Y|X]=x$ and $\\text{Var}[Y|X]=x$\n",
    "\n",
    "\n",
    "- Can we use a Poisson model if $E[Y|X]\\neq\\text{Var}[Y|X]$ in data?  Yes\n",
    "\n",
    "\n",
    "- Overdispersion: $\\text{Var}[Y|X]=\\phi E[Y|X]$ for $\\phi\\geq 0$\n",
    " \n",
    " \n",
    "- In general, data does not need to be perfect to use a model\n",
    "\n",
    "\n",
    "- Common GLMs:\n",
    "    - Binomial (logistic)\n",
    "    - Poisson\n",
    "    - Negative Binomial\n",
    "    - Gaussian\n",
    " \n",
    " \n",
    "- Which model should we try for the bike count data?"
   ]
  },
  {
   "cell_type": "markdown",
   "id": "administrative-african",
   "metadata": {},
   "source": [
    "### Poisson Regression and Parameter Estimation\n",
    "- Random sample $(y_1, x_1), \\dots, (y_n, x_n)$\n",
    " * $x_i=[1, x_{i1}, \\dots, x_{ip}]$ where we include the 1 for the intercept\n",
    " \n",
    " \n",
    "- Recall the [Poisson distribution](https://en.wikipedia.org/wiki/Poisson_distribution) gives the probability of a given number of independent events occurring in a fixed space or time at a constant rate\n",
    "    - Example: number of calls received per hour at call center or number of people arriving at a restaurant\n",
    "    - PDF: $p(x) = \\frac{\\lambda^x}{x!}\\exp(-\\lambda)$\n",
    "    - Expected value: $E[X] = \\lambda$\n",
    "    \n",
    "    \n",
    "- Assume $\\log E[Y|X=x]=\\beta^T x$ so that $\\lambda = \\exp(\\beta^Tx)$\n",
    "and\n",
    "$$\\begin{align}\n",
    "p(y|x;\\beta)\n",
    "&=\\frac{\\lambda^y}{y!}\\exp(-\\lambda) \\\\\n",
    "&= \\frac{\\exp\\left(y\\beta^T x\\right)}{y!}\\exp\\left(-\\exp(\\beta^T x)\\right)\n",
    "\\end{align}$$\n",
    "\n",
    "\n",
    "- Want to estimate $\\beta$; use log-likelihood:\n",
    "$$\n",
    "\\begin{align}\n",
    "\\ell(\\beta) \n",
    "&= \\log\\left(\\prod_{i=1}^n p(y_i|x_i;\\beta)\\right) \\\\\n",
    "&= \\log\\left( \\prod_{i=1}^n \\frac{\\exp\\left(y_i\\beta^T x_i\\right)}{y!}\\exp\\left(-\\exp(\\beta^T x_i)\\right) \\right)\\\\\n",
    "&= \\sum_{i=1}^n \\left(y_i \\beta^T x_i - \\log(y_i!) -\\exp(\\beta^T x_i)\\right)\n",
    "\\end{align}\n",
    "$$\n",
    "\n",
    "\n",
    "##### Optimization\n",
    "\n",
    "- Want to find $\\beta^* = \\arg\\max_\\beta \\ell(\\beta)$\n",
    "\n",
    "\n",
    "- Remember that $\\log p \\leq 0$ because $p \\leq 1$\n",
    "    - Because $\\log x$ is monotonically increasing, so maximize $p$ if and only if maximize $\\log p$ ($\\log p \\leq 0$, trying to get close to zero)\n",
    "\n",
    "\n",
    "- Intuition: Set $\\frac{\\partial}{\\partial \\beta}\\ell(\\beta) =0$ and solve\n",
    "\n",
    "\n",
    "- Here $\\nabla\\ell(\\beta)=0$ is not simple to solve\n",
    "\n",
    "\n",
    "- Because $-\\nabla^2 \\ell(\\beta)$ [semi-positive definite](https://en.wikipedia.org/wiki/Definite_symmetric_matrix) matrix, we know that $-\\ell(\\beta)$ is a convex function\n",
    "\n",
    "<img src=\"./convex.png\" width=\"300\">\n",
    "\n",
    "\n",
    "We can use a convex optimization technique such as [gradient descent](https://en.wikipedia.org/wiki/Gradient_descent):\n",
    "\n",
    "\n",
    "   1. Calculate $\\nabla \\ell(b)$ where $b\\in\\mathbb{R}^{p+1}$\n",
    " $$\n",
    " \\nabla \\ell(b) = \\sum_{i=1}^n y_i x_i - x_i \\exp(b^T x_i)\n",
    " $$\n",
    " \n",
    " \n",
    "   2. Choose a starting point $b_0$ in the $\\mathbb{R}^{p+1}$ (the space where $\\beta$ is)\n",
    " \n",
    " \n",
    "   3. Choose a step size, $\\gamma$\n",
    " \n",
    " \n",
    "   4. Algorithm, step $j$:\n",
    "    $$b_{j+1} \\leftarrow b_j+\\gamma \\nabla\\ell(b_j)$$\n",
    " \n",
    " \n",
    "   5. Stop algorithm when $\\ell(b_j)\\geq \\ell(b_{j+1})$ \n",
    " \n",
    " \n",
    "   6. Set $\\beta \\leftarrow b_j$\n",
    " \n",
    " \n",
    " Note: It's more common to make $\\gamma$ decrease as the algorithm progresses\n",
    " \n",
    " <img src=\"./Gradient_descent.svg.png\" width=\"300\">\n",
    " \n",
    "Image from Wikipedia\n",
    "\n",
    "\n",
    "- Why not use [Newton-Raphson](https://en.wikipedia.org/wiki/Newton's_method)?\n",
    "\n",
    "\n",
    "- In step 4, why are we adding for gradient descent?\n"
   ]
  },
  {
   "cell_type": "markdown",
   "id": "controversial-economy",
   "metadata": {},
   "source": [
    "### Model fitting in practice\n",
    "- In many settings, the goal is to understand associations with an outcome\n",
    "\n",
    "\n",
    "- The goal is not to fit the perfect model\n",
    "\n",
    "\n",
    "- Even though GLMs are association models, investigators will use these models to attempt to explain a causal relationship using expert subject-matter knowledge\n",
    "\n",
    "\n",
    "- Many researchers will always want to see the variable of interest in the model, even when it does not improve model fit\n",
    "\n",
    "\n",
    "- In some cases, researcher also want more information (more variables) \n",
    "\n",
    "\n",
    "- Model selection often needs to be a discussion to determine how to meet the goals of the current work\n",
    "\n",
    "\n",
    "- Often, there is room for several good models\n",
    "\n",
    "\n",
    "- Good idea to run *sensitivity analyses*: changing model/assumptions to understand how *robust* outcomes are under varying models/assumptions\n",
    "\n"
   ]
  },
  {
   "cell_type": "markdown",
   "id": "blind-principle",
   "metadata": {},
   "source": [
    "### Regression Modeling\n",
    "\n",
    "- In this case, we don't have a lot of information about what the client wants other than generally understand how each variable is associated with the outcome\n",
    "\n",
    "\n",
    "- Because there are not a lot of variables and many rows, it's not a problem to include them all\n",
    "    - There is no rule on how large $\\frac{n}{p}$ needs to be\n",
    "    - $n=$ number of rows, $p=$ number of parameters to estimate\n",
    "\n",
    "\n",
    "- Note that because `share = expenditure / income` we can exclude one ([multicollinearity](https://en.wikipedia.org/wiki/Multicollinearity))\n",
    "\n",
    "\n",
    "- Again, this data was used to decide if an applicant should be approved for a credit card, and it seems likely that the number of derogatory reports would influence credit card approval.  Because of this, we need to exclude the `card` variable.\n",
    "\n",
    "\n",
    "- Remember, when using a software package for the first time, look over the [documentation](https://www.statsmodels.org/stable/glm.html)\n",
    "\n"
   ]
  },
  {
   "cell_type": "code",
   "execution_count": 15,
   "id": "elect-hearing",
   "metadata": {},
   "outputs": [
    {
     "data": {
      "text/html": [
       "<table class=\"simpletable\">\n",
       "<caption>Generalized Linear Model Regression Results</caption>\n",
       "<tr>\n",
       "  <th>Dep. Variable:</th>        <td>reports</td>     <th>  No. Observations:  </th>  <td>  1312</td> \n",
       "</tr>\n",
       "<tr>\n",
       "  <th>Model:</th>                  <td>GLM</td>       <th>  Df Residuals:      </th>  <td>  1302</td> \n",
       "</tr>\n",
       "<tr>\n",
       "  <th>Model Family:</th>         <td>Poisson</td>     <th>  Df Model:          </th>  <td>     9</td> \n",
       "</tr>\n",
       "<tr>\n",
       "  <th>Link Function:</th>          <td>log</td>       <th>  Scale:             </th> <td>  1.0000</td>\n",
       "</tr>\n",
       "<tr>\n",
       "  <th>Method:</th>                <td>IRLS</td>       <th>  Log-Likelihood:    </th> <td> -1272.5</td>\n",
       "</tr>\n",
       "<tr>\n",
       "  <th>Date:</th>            <td>Thu, 06 Jan 2022</td> <th>  Deviance:          </th> <td>  1897.6</td>\n",
       "</tr>\n",
       "<tr>\n",
       "  <th>Time:</th>                <td>10:29:36</td>     <th>  Pearson chi2:      </th> <td>6.80e+03</td>\n",
       "</tr>\n",
       "<tr>\n",
       "  <th>No. Iterations:</th>          <td>7</td>        <th>                     </th>     <td> </td>   \n",
       "</tr>\n",
       "<tr>\n",
       "  <th>Covariance Type:</th>     <td>nonrobust</td>    <th>                     </th>     <td> </td>   \n",
       "</tr>\n",
       "</table>\n",
       "<table class=\"simpletable\">\n",
       "<tr>\n",
       "          <td></td>             <th>coef</th>     <th>std err</th>      <th>z</th>      <th>P>|z|</th>  <th>[0.025</th>    <th>0.975]</th>  \n",
       "</tr>\n",
       "<tr>\n",
       "  <th>Intercept</th>         <td>   -1.1482</td> <td>    0.181</td> <td>   -6.360</td> <td> 0.000</td> <td>   -1.502</td> <td>   -0.794</td>\n",
       "</tr>\n",
       "<tr>\n",
       "  <th>owner[T.yes]</th>      <td>   -0.7820</td> <td>    0.103</td> <td>   -7.610</td> <td> 0.000</td> <td>   -0.983</td> <td>   -0.581</td>\n",
       "</tr>\n",
       "<tr>\n",
       "  <th>selfemp[T.yes]</th>    <td>   -0.0237</td> <td>    0.150</td> <td>   -0.158</td> <td> 0.875</td> <td>   -0.318</td> <td>    0.271</td>\n",
       "</tr>\n",
       "<tr>\n",
       "  <th>majorcards[T.yes]</th> <td>   -0.0309</td> <td>    0.106</td> <td>   -0.292</td> <td> 0.770</td> <td>   -0.238</td> <td>    0.176</td>\n",
       "</tr>\n",
       "<tr>\n",
       "  <th>age</th>               <td>    0.0008</td> <td>    0.005</td> <td>    0.167</td> <td> 0.867</td> <td>   -0.009</td> <td>    0.010</td>\n",
       "</tr>\n",
       "<tr>\n",
       "  <th>income</th>            <td>    0.0658</td> <td>    0.027</td> <td>    2.481</td> <td> 0.013</td> <td>    0.014</td> <td>    0.118</td>\n",
       "</tr>\n",
       "<tr>\n",
       "  <th>expenditure</th>       <td>   -0.0038</td> <td>    0.000</td> <td>  -10.372</td> <td> 0.000</td> <td>   -0.005</td> <td>   -0.003</td>\n",
       "</tr>\n",
       "<tr>\n",
       "  <th>dependents</th>        <td>    0.0882</td> <td>    0.036</td> <td>    2.478</td> <td> 0.013</td> <td>    0.018</td> <td>    0.158</td>\n",
       "</tr>\n",
       "<tr>\n",
       "  <th>months</th>            <td>    0.0024</td> <td>    0.001</td> <td>    3.818</td> <td> 0.000</td> <td>    0.001</td> <td>    0.004</td>\n",
       "</tr>\n",
       "<tr>\n",
       "  <th>active</th>            <td>    0.0768</td> <td>    0.005</td> <td>   16.554</td> <td> 0.000</td> <td>    0.068</td> <td>    0.086</td>\n",
       "</tr>\n",
       "</table>"
      ],
      "text/plain": [
       "<class 'statsmodels.iolib.summary.Summary'>\n",
       "\"\"\"\n",
       "                 Generalized Linear Model Regression Results                  \n",
       "==============================================================================\n",
       "Dep. Variable:                reports   No. Observations:                 1312\n",
       "Model:                            GLM   Df Residuals:                     1302\n",
       "Model Family:                 Poisson   Df Model:                            9\n",
       "Link Function:                    log   Scale:                          1.0000\n",
       "Method:                          IRLS   Log-Likelihood:                -1272.5\n",
       "Date:                Thu, 06 Jan 2022   Deviance:                       1897.6\n",
       "Time:                        10:29:36   Pearson chi2:                 6.80e+03\n",
       "No. Iterations:                     7                                         \n",
       "Covariance Type:            nonrobust                                         \n",
       "=====================================================================================\n",
       "                        coef    std err          z      P>|z|      [0.025      0.975]\n",
       "-------------------------------------------------------------------------------------\n",
       "Intercept            -1.1482      0.181     -6.360      0.000      -1.502      -0.794\n",
       "owner[T.yes]         -0.7820      0.103     -7.610      0.000      -0.983      -0.581\n",
       "selfemp[T.yes]       -0.0237      0.150     -0.158      0.875      -0.318       0.271\n",
       "majorcards[T.yes]    -0.0309      0.106     -0.292      0.770      -0.238       0.176\n",
       "age                   0.0008      0.005      0.167      0.867      -0.009       0.010\n",
       "income                0.0658      0.027      2.481      0.013       0.014       0.118\n",
       "expenditure          -0.0038      0.000    -10.372      0.000      -0.005      -0.003\n",
       "dependents            0.0882      0.036      2.478      0.013       0.018       0.158\n",
       "months                0.0024      0.001      3.818      0.000       0.001       0.004\n",
       "active                0.0768      0.005     16.554      0.000       0.068       0.086\n",
       "=====================================================================================\n",
       "\"\"\""
      ]
     },
     "execution_count": 15,
     "metadata": {},
     "output_type": "execute_result"
    }
   ],
   "source": [
    "expr = '''reports ~ age + income + expenditure + owner + \n",
    "        selfemp + dependents + months + majorcards + active'''\n",
    "fit1 = sm.GLM.from_formula(\n",
    "    expr, data=df1, family=sm.families.Poisson()).fit()\n",
    "fit1.summary()"
   ]
  },
  {
   "cell_type": "markdown",
   "id": "interior-scanner",
   "metadata": {},
   "source": [
    "- Question: Can we put the table above in the body of a report?\n",
    "    - a) yes\n",
    "    - b) no\n",
    "    - why?\n",
    "\n",
    "\n",
    "- What might be problematic with this model above?\n",
    "\n",
    "\n",
    "- What might happen if we include `card` as a variable?"
   ]
  },
  {
   "cell_type": "markdown",
   "id": "variable-winning",
   "metadata": {
    "scrolled": false
   },
   "source": [
    "#### Overdispersion\n",
    "\n",
    "- Again, assuming Poisson distributed data assumes\n",
    "$$E[Y|X;\\beta]=\\text{Var}[Y|X;\\beta]$$\n",
    "\n",
    "\n",
    "- If this does not hold, the parameter point estimates will still be accurate but the variance and confidence intervals will be off\n",
    "\n",
    "\n",
    "- Variance is important for inference (statistical significance) but if the goal is prediction, having the correct variance structure is not as important\n",
    "\n",
    "\n",
    "- For *statistical inference*, we need to focus on the mean and variance models\n",
    "\n",
    "\n",
    "- Question: Do we *always* need to the variance to be approximately correct?\n",
    "    - a) yes\n",
    "    - b) no\n",
    "\n",
    "\n",
    "- In the statsmodels python module, setting `scale=\"X2\"` in the [`fit` method](https://www.statsmodels.org/stable/generated/statsmodels.genmod.generalized_linear_model.GLM.fit.html) estimates the scale parameter as Pearson’s chi-square divided by df_resid for the entire sample\n",
    "\n",
    "\n",
    "- Using this, we allow $\\text{Var}[Y|X;\\beta]=\\phi E[Y|X;\\beta]$ for $\\phi>0$\n",
    "\n",
    "\n",
    "- Note: This is no longer a likelihood-based model, but rather quasi-likelihood, so it is not appropriate to use AIC to compare\n",
    "\n",
    "\n",
    "- Quasi-likelihood objective function\n",
    "$$Q(\\beta) = \\sum_i \\frac{(y_i-\\mu_i(\\beta))^2}{\\phi \\text{Var}(\\mu_i(\\beta))}$$\n",
    "where $\\mu_i(\\beta)$ is the model fitted value and $\\text{Var}(\\mu_i(\\beta))$ is the model variance\n",
    "\n",
    "\n",
    "- Use its gradient for optimization\n",
    "$$\\nabla_\\beta Q = \\sum_i \\nabla_\\beta \\mu_i(\\beta)\\frac{2(y_i-\\mu_i(\\beta))}{\\text{Var}(\\mu_i(\\beta))}$$\n",
    "\n",
    "\n",
    "- We can use Quasi-AIC (QAIC or QIC) to compare different quasi-likelihood-based models\n",
    "\n",
    "\n",
    "- The scale parameter is estimated as \n",
    "$$\\hat \\phi = \\sum_i \\frac{(y_i-\\hat\\mu_i)^2}{(n-p)V(\\hat\\mu_i)}$$\n",
    "\n",
    "\n",
    "- Because this is count data, it probably follows some conditional Poisson distribution given all the necessary variables and transformations\n",
    "\n",
    "\n",
    "- It may be possible to construct a model with $\\hat\\phi\\approx 1$\n",
    "\n"
   ]
  },
  {
   "cell_type": "code",
   "execution_count": 16,
   "id": "signed-greene",
   "metadata": {},
   "outputs": [
    {
     "data": {
      "text/html": [
       "<table class=\"simpletable\">\n",
       "<caption>Generalized Linear Model Regression Results</caption>\n",
       "<tr>\n",
       "  <th>Dep. Variable:</th>        <td>reports</td>     <th>  No. Observations:  </th>  <td>  1312</td> \n",
       "</tr>\n",
       "<tr>\n",
       "  <th>Model:</th>                  <td>GLM</td>       <th>  Df Residuals:      </th>  <td>  1302</td> \n",
       "</tr>\n",
       "<tr>\n",
       "  <th>Model Family:</th>         <td>Poisson</td>     <th>  Df Model:          </th>  <td>     9</td> \n",
       "</tr>\n",
       "<tr>\n",
       "  <th>Link Function:</th>          <td>log</td>       <th>  Scale:             </th> <td>  5.2256</td>\n",
       "</tr>\n",
       "<tr>\n",
       "  <th>Method:</th>                <td>IRLS</td>       <th>  Log-Likelihood:    </th> <td> -243.52</td>\n",
       "</tr>\n",
       "<tr>\n",
       "  <th>Date:</th>            <td>Thu, 06 Jan 2022</td> <th>  Deviance:          </th> <td>  1897.6</td>\n",
       "</tr>\n",
       "<tr>\n",
       "  <th>Time:</th>                <td>10:29:36</td>     <th>  Pearson chi2:      </th> <td>6.80e+03</td>\n",
       "</tr>\n",
       "<tr>\n",
       "  <th>No. Iterations:</th>          <td>9</td>        <th>                     </th>     <td> </td>   \n",
       "</tr>\n",
       "<tr>\n",
       "  <th>Covariance Type:</th>     <td>nonrobust</td>    <th>                     </th>     <td> </td>   \n",
       "</tr>\n",
       "</table>\n",
       "<table class=\"simpletable\">\n",
       "<tr>\n",
       "          <td></td>             <th>coef</th>     <th>std err</th>      <th>z</th>      <th>P>|z|</th>  <th>[0.025</th>    <th>0.975]</th>  \n",
       "</tr>\n",
       "<tr>\n",
       "  <th>Intercept</th>         <td>   -1.1482</td> <td>    0.413</td> <td>   -2.782</td> <td> 0.005</td> <td>   -1.957</td> <td>   -0.339</td>\n",
       "</tr>\n",
       "<tr>\n",
       "  <th>owner[T.yes]</th>      <td>   -0.7820</td> <td>    0.235</td> <td>   -3.329</td> <td> 0.001</td> <td>   -1.242</td> <td>   -0.322</td>\n",
       "</tr>\n",
       "<tr>\n",
       "  <th>selfemp[T.yes]</th>    <td>   -0.0237</td> <td>    0.344</td> <td>   -0.069</td> <td> 0.945</td> <td>   -0.697</td> <td>    0.650</td>\n",
       "</tr>\n",
       "<tr>\n",
       "  <th>majorcards[T.yes]</th> <td>   -0.0309</td> <td>    0.242</td> <td>   -0.128</td> <td> 0.898</td> <td>   -0.504</td> <td>    0.443</td>\n",
       "</tr>\n",
       "<tr>\n",
       "  <th>age</th>               <td>    0.0008</td> <td>    0.011</td> <td>    0.073</td> <td> 0.942</td> <td>   -0.021</td> <td>    0.023</td>\n",
       "</tr>\n",
       "<tr>\n",
       "  <th>income</th>            <td>    0.0658</td> <td>    0.061</td> <td>    1.085</td> <td> 0.278</td> <td>   -0.053</td> <td>    0.185</td>\n",
       "</tr>\n",
       "<tr>\n",
       "  <th>expenditure</th>       <td>   -0.0038</td> <td>    0.001</td> <td>   -4.537</td> <td> 0.000</td> <td>   -0.005</td> <td>   -0.002</td>\n",
       "</tr>\n",
       "<tr>\n",
       "  <th>dependents</th>        <td>    0.0882</td> <td>    0.081</td> <td>    1.084</td> <td> 0.278</td> <td>   -0.071</td> <td>    0.248</td>\n",
       "</tr>\n",
       "<tr>\n",
       "  <th>months</th>            <td>    0.0024</td> <td>    0.001</td> <td>    1.670</td> <td> 0.095</td> <td>   -0.000</td> <td>    0.005</td>\n",
       "</tr>\n",
       "<tr>\n",
       "  <th>active</th>            <td>    0.0768</td> <td>    0.011</td> <td>    7.241</td> <td> 0.000</td> <td>    0.056</td> <td>    0.098</td>\n",
       "</tr>\n",
       "</table>"
      ],
      "text/plain": [
       "<class 'statsmodels.iolib.summary.Summary'>\n",
       "\"\"\"\n",
       "                 Generalized Linear Model Regression Results                  \n",
       "==============================================================================\n",
       "Dep. Variable:                reports   No. Observations:                 1312\n",
       "Model:                            GLM   Df Residuals:                     1302\n",
       "Model Family:                 Poisson   Df Model:                            9\n",
       "Link Function:                    log   Scale:                          5.2256\n",
       "Method:                          IRLS   Log-Likelihood:                -243.52\n",
       "Date:                Thu, 06 Jan 2022   Deviance:                       1897.6\n",
       "Time:                        10:29:36   Pearson chi2:                 6.80e+03\n",
       "No. Iterations:                     9                                         \n",
       "Covariance Type:            nonrobust                                         \n",
       "=====================================================================================\n",
       "                        coef    std err          z      P>|z|      [0.025      0.975]\n",
       "-------------------------------------------------------------------------------------\n",
       "Intercept            -1.1482      0.413     -2.782      0.005      -1.957      -0.339\n",
       "owner[T.yes]         -0.7820      0.235     -3.329      0.001      -1.242      -0.322\n",
       "selfemp[T.yes]       -0.0237      0.344     -0.069      0.945      -0.697       0.650\n",
       "majorcards[T.yes]    -0.0309      0.242     -0.128      0.898      -0.504       0.443\n",
       "age                   0.0008      0.011      0.073      0.942      -0.021       0.023\n",
       "income                0.0658      0.061      1.085      0.278      -0.053       0.185\n",
       "expenditure          -0.0038      0.001     -4.537      0.000      -0.005      -0.002\n",
       "dependents            0.0882      0.081      1.084      0.278      -0.071       0.248\n",
       "months                0.0024      0.001      1.670      0.095      -0.000       0.005\n",
       "active                0.0768      0.011      7.241      0.000       0.056       0.098\n",
       "=====================================================================================\n",
       "\"\"\""
      ]
     },
     "execution_count": 16,
     "metadata": {},
     "output_type": "execute_result"
    }
   ],
   "source": [
    "fitOD = sm.GLM.from_formula(\n",
    "    expr, data=df1, family=sm.families.Poisson()).fit(scale=\"X2\")\n",
    "fitOD.summary()"
   ]
  },
  {
   "cell_type": "markdown",
   "id": "third-discretion",
   "metadata": {},
   "source": [
    "- In the model above, the scale parameter = 133 >> 1 indicating overdispersion\n",
    "\n",
    "\n",
    "- There are tests, but a reasonable heuristic is $\\hat\\phi > 1.5$\n",
    "\n",
    "\n",
    "- Notice that the 'coef' estimates between both models are similar but the 'std err' values are very different\n",
    "\n",
    "\n",
    "- std err from the overdispersion model $=SE_{OD}(\\hat\\beta)= \\sqrt{\\hat\\phi} SE(\\hat\\beta)$ where $SE(\\hat\\beta)$ is the std err from the Poisson model\n",
    "\n",
    "\n",
    "- Comparing quasi-likelihood-based models, we can use QAIC\n",
    "$$QAIC = -2Q_j+2p_j$$\n",
    "where $QAIC_j$ and $p_j$ are the quasi-likelihood and parameter count for model $j$\n",
    "\n"
   ]
  },
  {
   "cell_type": "markdown",
   "id": "failing-ethics",
   "metadata": {},
   "source": [
    "**Negative Binomial Regression**\n",
    "\n",
    "- Another option is to assume a negative binomial (NB) distribution\n",
    "\n",
    "\n",
    "- What does [negative binomial](https://en.wikipedia.org/wiki/Negative_binomial_distribution) actually model?\n",
    "    - a) number of successes in a sequence of $n$ independent Bernoulli trials\n",
    "    - b) number of independent events occurring in a fixed interval of time or space with a constant rate\n",
    "    - c) number of successes in a sequence of independent Bernoulli trials before a specified number of failures occurs\n",
    "    - d) number of successes in n draws, without replacement, from a finite population of size $N$ that contains exactly $K$ successes\n",
    "\n",
    "\n",
    "- While it's clear that the count data do not have a NB distribution, this model gives more flexibility for modeling variance than Poisson\n",
    "\n",
    "\n",
    "- Remember: Our goal is to quantify the relationship between the variables and the outcome\n",
    "    - The model we present will almost certainly not be perfect but it can still be helpful\n",
    "\n",
    "\n",
    "- NB relaxes the assumption that $E[Y|X]=\\text{Var}[Y|X]$\n",
    "\n",
    "\n",
    "- If $Y|X\\sim\\text{Negative Binomial}(r,p)$ then\n",
    "$$\\text{Var}[Y|X] = E[Y|X]+\\alpha E[Y|X]^2$$\n",
    "\n",
    "\n",
    "- Technically, NB can also be modeled with overdispersion as well\n",
    "    - We would probably not use here\n",
    "    - Why?\n",
    "\n"
   ]
  },
  {
   "cell_type": "code",
   "execution_count": 17,
   "id": "brief-bibliography",
   "metadata": {},
   "outputs": [
    {
     "data": {
      "text/html": [
       "<table class=\"simpletable\">\n",
       "<caption>Generalized Linear Model Regression Results</caption>\n",
       "<tr>\n",
       "  <th>Dep. Variable:</th>        <td>reports</td>     <th>  No. Observations:  </th>  <td>  1319</td> \n",
       "</tr>\n",
       "<tr>\n",
       "  <th>Model:</th>                  <td>GLM</td>       <th>  Df Residuals:      </th>  <td>  1309</td> \n",
       "</tr>\n",
       "<tr>\n",
       "  <th>Model Family:</th>    <td>NegativeBinomial</td> <th>  Df Model:          </th>  <td>     9</td> \n",
       "</tr>\n",
       "<tr>\n",
       "  <th>Link Function:</th>          <td>log</td>       <th>  Scale:             </th> <td>  1.0000</td>\n",
       "</tr>\n",
       "<tr>\n",
       "  <th>Method:</th>                <td>IRLS</td>       <th>  Log-Likelihood:    </th> <td> -1046.5</td>\n",
       "</tr>\n",
       "<tr>\n",
       "  <th>Date:</th>            <td>Thu, 06 Jan 2022</td> <th>  Deviance:          </th> <td>  1143.1</td>\n",
       "</tr>\n",
       "<tr>\n",
       "  <th>Time:</th>                <td>10:29:36</td>     <th>  Pearson chi2:      </th> <td>3.21e+03</td>\n",
       "</tr>\n",
       "<tr>\n",
       "  <th>No. Iterations:</th>         <td>10</td>        <th>                     </th>     <td> </td>   \n",
       "</tr>\n",
       "<tr>\n",
       "  <th>Covariance Type:</th>     <td>nonrobust</td>    <th>                     </th>     <td> </td>   \n",
       "</tr>\n",
       "</table>\n",
       "<table class=\"simpletable\">\n",
       "<tr>\n",
       "          <td></td>             <th>coef</th>     <th>std err</th>      <th>z</th>      <th>P>|z|</th>  <th>[0.025</th>    <th>0.975]</th>  \n",
       "</tr>\n",
       "<tr>\n",
       "  <th>Intercept</th>         <td>   -1.6513</td> <td>    0.231</td> <td>   -7.144</td> <td> 0.000</td> <td>   -2.104</td> <td>   -1.198</td>\n",
       "</tr>\n",
       "<tr>\n",
       "  <th>owner[T.yes]</th>      <td>   -0.8105</td> <td>    0.131</td> <td>   -6.207</td> <td> 0.000</td> <td>   -1.066</td> <td>   -0.555</td>\n",
       "</tr>\n",
       "<tr>\n",
       "  <th>selfemp[T.yes]</th>    <td>    0.0143</td> <td>    0.200</td> <td>    0.072</td> <td> 0.943</td> <td>   -0.378</td> <td>    0.407</td>\n",
       "</tr>\n",
       "<tr>\n",
       "  <th>majorcards[T.yes]</th> <td>    0.0091</td> <td>    0.142</td> <td>    0.065</td> <td> 0.948</td> <td>   -0.268</td> <td>    0.287</td>\n",
       "</tr>\n",
       "<tr>\n",
       "  <th>age</th>               <td>    0.0040</td> <td>    0.006</td> <td>    0.638</td> <td> 0.523</td> <td>   -0.008</td> <td>    0.016</td>\n",
       "</tr>\n",
       "<tr>\n",
       "  <th>income</th>            <td>    0.0801</td> <td>    0.035</td> <td>    2.289</td> <td> 0.022</td> <td>    0.012</td> <td>    0.149</td>\n",
       "</tr>\n",
       "<tr>\n",
       "  <th>expenditure</th>       <td>   -0.0030</td> <td>    0.000</td> <td>   -7.942</td> <td> 0.000</td> <td>   -0.004</td> <td>   -0.002</td>\n",
       "</tr>\n",
       "<tr>\n",
       "  <th>dependents</th>        <td>    0.0893</td> <td>    0.046</td> <td>    1.943</td> <td> 0.052</td> <td>   -0.001</td> <td>    0.179</td>\n",
       "</tr>\n",
       "<tr>\n",
       "  <th>months</th>            <td>    0.0023</td> <td>    0.001</td> <td>    2.788</td> <td> 0.005</td> <td>    0.001</td> <td>    0.004</td>\n",
       "</tr>\n",
       "<tr>\n",
       "  <th>active</th>            <td>    0.1031</td> <td>    0.008</td> <td>   13.412</td> <td> 0.000</td> <td>    0.088</td> <td>    0.118</td>\n",
       "</tr>\n",
       "</table>"
      ],
      "text/plain": [
       "<class 'statsmodels.iolib.summary.Summary'>\n",
       "\"\"\"\n",
       "                 Generalized Linear Model Regression Results                  \n",
       "==============================================================================\n",
       "Dep. Variable:                reports   No. Observations:                 1319\n",
       "Model:                            GLM   Df Residuals:                     1309\n",
       "Model Family:        NegativeBinomial   Df Model:                            9\n",
       "Link Function:                    log   Scale:                          1.0000\n",
       "Method:                          IRLS   Log-Likelihood:                -1046.5\n",
       "Date:                Thu, 06 Jan 2022   Deviance:                       1143.1\n",
       "Time:                        10:29:36   Pearson chi2:                 3.21e+03\n",
       "No. Iterations:                    10                                         \n",
       "Covariance Type:            nonrobust                                         \n",
       "=====================================================================================\n",
       "                        coef    std err          z      P>|z|      [0.025      0.975]\n",
       "-------------------------------------------------------------------------------------\n",
       "Intercept            -1.6513      0.231     -7.144      0.000      -2.104      -1.198\n",
       "owner[T.yes]         -0.8105      0.131     -6.207      0.000      -1.066      -0.555\n",
       "selfemp[T.yes]        0.0143      0.200      0.072      0.943      -0.378       0.407\n",
       "majorcards[T.yes]     0.0091      0.142      0.065      0.948      -0.268       0.287\n",
       "age                   0.0040      0.006      0.638      0.523      -0.008       0.016\n",
       "income                0.0801      0.035      2.289      0.022       0.012       0.149\n",
       "expenditure          -0.0030      0.000     -7.942      0.000      -0.004      -0.002\n",
       "dependents            0.0893      0.046      1.943      0.052      -0.001       0.179\n",
       "months                0.0023      0.001      2.788      0.005       0.001       0.004\n",
       "active                0.1031      0.008     13.412      0.000       0.088       0.118\n",
       "=====================================================================================\n",
       "\"\"\""
      ]
     },
     "execution_count": 17,
     "metadata": {},
     "output_type": "execute_result"
    }
   ],
   "source": [
    "fitNB = sm.GLM.from_formula(\n",
    "    expr, data=df, family=sm.families.NegativeBinomial()).fit()\n",
    "fitNB.summary()"
   ]
  },
  {
   "cell_type": "markdown",
   "id": "heavy-combination",
   "metadata": {},
   "source": [
    "- Using AIC to choose a model: smaller is better\n",
    " \n",
    "\n",
    " \n",
    "- Why can we use AIC to compare Poisson regression to Negative Binomial Regression?\n",
    "\n",
    "\n",
    "- Question: Can compare any likelihood-based models with AIC/BIC?\n",
    "    - a) yes\n",
    "    - b) no\n",
    "\n",
    "\n",
    "- Question: Could we do this with deviance?\n",
    "    - a) yes\n",
    "    - b) no\n",
    "\n",
    "\n",
    "- What about comparing QAIC and AIC?\n",
    "\n"
   ]
  },
  {
   "cell_type": "code",
   "execution_count": 18,
   "id": "exciting-emperor",
   "metadata": {},
   "outputs": [
    {
     "name": "stdout",
     "output_type": "stream",
     "text": [
      "Poissson AIC: 2565\n",
      "Negative Binomial AIC: 2113\n"
     ]
    }
   ],
   "source": [
    "print(f'Poissson AIC: {round(fit1.aic)}')\n",
    "print(f'Negative Binomial AIC: {round(fitNB.aic)}')"
   ]
  },
  {
   "cell_type": "markdown",
   "id": "spectacular-green",
   "metadata": {},
   "source": [
    "### Diagnostics\n",
    "- These are some general diagnostic visuals\n",
    "\n",
    "\n",
    "- They tend to be somewhat subjective\n",
    "\n",
    "\n",
    "- But, they are very helpful for finding influential points\n",
    "\n"
   ]
  },
  {
   "cell_type": "code",
   "execution_count": 19,
   "id": "neutral-likelihood",
   "metadata": {},
   "outputs": [
    {
     "ename": "NameError",
     "evalue": "name 'bikePoisOD' is not defined",
     "output_type": "error",
     "traceback": [
      "\u001b[0;31m---------------------------------------------------------------------------\u001b[0m",
      "\u001b[0;31mNameError\u001b[0m                                 Traceback (most recent call last)",
      "\u001b[0;32m<ipython-input-19-032e494cdf23>\u001b[0m in \u001b[0;36m<module>\u001b[0;34m\u001b[0m\n\u001b[1;32m      1\u001b[0m \u001b[0mfig\u001b[0m\u001b[0;34m,\u001b[0m \u001b[0max\u001b[0m \u001b[0;34m=\u001b[0m \u001b[0mplt\u001b[0m\u001b[0;34m.\u001b[0m\u001b[0msubplots\u001b[0m\u001b[0;34m(\u001b[0m\u001b[0;34m)\u001b[0m\u001b[0;34m\u001b[0m\u001b[0;34m\u001b[0m\u001b[0m\n\u001b[0;32m----> 2\u001b[0;31m \u001b[0max\u001b[0m\u001b[0;34m.\u001b[0m\u001b[0mscatter\u001b[0m\u001b[0;34m(\u001b[0m\u001b[0mbikePoisOD\u001b[0m\u001b[0;34m.\u001b[0m\u001b[0mfittedvalues\u001b[0m\u001b[0;34m,\u001b[0m \u001b[0mdf\u001b[0m\u001b[0;34m[\u001b[0m\u001b[0;34m'BB_COUNT'\u001b[0m\u001b[0;34m]\u001b[0m\u001b[0;34m)\u001b[0m\u001b[0;34m\u001b[0m\u001b[0;34m\u001b[0m\u001b[0m\n\u001b[0m\u001b[1;32m      3\u001b[0m line_fit = sm.OLS(\n\u001b[1;32m      4\u001b[0m     \u001b[0mdf\u001b[0m\u001b[0;34m[\u001b[0m\u001b[0;34m'BB_COUNT'\u001b[0m\u001b[0;34m]\u001b[0m\u001b[0;34m,\u001b[0m\u001b[0;34m\u001b[0m\u001b[0;34m\u001b[0m\u001b[0m\n\u001b[1;32m      5\u001b[0m     sm.add_constant(bikePoisOD.fittedvalues, prepend=True)).fit()\n",
      "\u001b[0;31mNameError\u001b[0m: name 'bikePoisOD' is not defined"
     ]
    },
    {
     "data": {
      "image/png": "[encoded data removed]",
      "text/plain": [
       "<Figure size 1200x800 with 1 Axes>"
      ]
     },
     "metadata": {
      "needs_background": "light"
     },
     "output_type": "display_data"
    }
   ],
   "source": [
    "fig, ax = plt.subplots()\n",
    "ax.scatter(bikePoisOD.fittedvalues, df['BB_COUNT'])\n",
    "line_fit = sm.OLS(\n",
    "    df['BB_COUNT'], \n",
    "    sm.add_constant(bikePoisOD.fittedvalues, prepend=True)).fit()\n",
    "abline_plot(model_results=line_fit, ax=ax, color='r')\n",
    "ax.set_title('Model Fit Plot')\n",
    "ax.set_ylabel('Observed values')\n",
    "ax.set_xlabel('Fitted values');"
   ]
  },
  {
   "cell_type": "code",
   "execution_count": null,
   "id": "satellite-impossible",
   "metadata": {},
   "outputs": [],
   "source": [
    "fig, ax = plt.subplots()\n",
    "ax.scatter(bikePoisOD.fittedvalues, bikePoisOD.resid_pearson)\n",
    "ax.hlines(0, 4e3, 1, color='r')\n",
    "ax.set_title('Residual Dependence Plot')\n",
    "ax.set_ylabel('Pearson Residuals')\n",
    "ax.set_xlabel('Fitted values')"
   ]
  },
  {
   "cell_type": "code",
   "execution_count": null,
   "id": "bibliographic-theology",
   "metadata": {
    "scrolled": true
   },
   "outputs": [],
   "source": [
    "fig, ax = plt.subplots()\n",
    "ax.scatter(bikePoisOD.fittedvalues, bikePoisOD.resid_deviance)\n",
    "ax.hlines(0, 4e3, 1, color='r')\n",
    "ax.set_title('Residual Dependence Plot')\n",
    "ax.set_ylabel('Deviance Residuals')\n",
    "ax.set_xlabel('Fitted values')"
   ]
  },
  {
   "cell_type": "markdown",
   "id": "fleet-geography",
   "metadata": {},
   "source": [
    "### Choosing a model\n",
    "\n",
    "- Choosing a model can be difficult\n",
    "\n",
    "\n",
    "- Important: All models are *wrong*, but some are helpful\n",
    "\n",
    "\n",
    "- Consider how well *you* understand the model and can *communicate* the findings\n",
    "\n",
    "\n",
    "- Consider using other model (not in body of report) as sensitivity analysis\n",
    "\n",
    "\n",
    "- People are *always* developing new (complicated) methods to tackle very specific data problems\n",
    "    - It is ok (good) to use a simple model even if it is not perfect\n",
    "    \n",
    "\n",
    "- If you notice a problem with the data, use Google (search engine) to find solutions\n",
    "    - Consider the time it might take you to implement a better method and evaluate the pay off"
   ]
  },
  {
   "cell_type": "markdown",
   "id": "worse-eugene",
   "metadata": {},
   "source": [
    "### Communicating Findings\n",
    "- Opinion: most common mistake is not considering the audience\n",
    " - Which details will be helpful and which will be lost?\n",
    " - What kinds of graphics will make explanations more clear or give more useful information?\n",
    " \n",
    "**Suggestions for Intro**\n",
    "\n",
    "- First sentence should introduce the subject-matter in a way that a 5-year old can understand but addresses your client's needs\n",
    "- Second sentence should focus more on the problem at hand\n",
    "- Next, what is the problem you are trying to answer?\n",
    "- Without using jargon, how will you address it?\n",
    "- In one sentence, what is the most important finding?\n",
    "- Example for this analysis:\n",
    "\n",
    "Cycling in and out of Manhattan is commonplace.  However, the daily number entering and leaving by bicycling on any given day is likely influenced by external factors such as weather and time.  This analysis explains the daily count of cyclists crossing the Brooklyn Bridge in terms of external factors.  The models show that several factors are associated with the number of daily crossings, including temperate, weekend, and month.\n",
    "\n",
    "- Someone who has no idea about your work should be able to follow and understand your first paragraph\n",
    "\n",
    "**Suggestions for method**\n",
    "\n",
    "- In this section, you should describe the methods that you used, specifically, how it is appropriate for the data\n",
    "- The level of detail for this section will vary depending on the audience\n",
    "- It's typically easier to go into too much detail - more appropriate for a technical audience\n",
    "- For this class, you should assume that the audience is a subject-matter expert, but without a background in statistics\n",
    "- For this class, stay away from jargon\n",
    " - Example of what not to do: Due to the covariance structure among the observation, we used a mixed-effects model.\n",
    " - There are likely many setting where this is appropriate, but in others, this type of language will confuse readers\n",
    " - Instead, try to explain the problems\n",
    " - Better: This data is includes many observations from individuals over time.  To account for this, we used a mixed-effects model.\n",
    "- Explain why you modeled the data as done\n",
    "- Brief example for this analysis:\n",
    "\n",
    "In this analysis, we aim to determine which external factors are associated with number of daily cyclist crossings and quantify the degree of each association.  Because the outcome for this analysis is count data (daily cyclists crossings), we primarily use Poisson regression to model this daily count with respect to the external factors provided in the data.  As our goal is to broadly understand associations with the outcome, we include all explanatory variables available in the data in our regression model.  This is reasonable because the ratio of rows to columns for the data is large.\n",
    "\n",
    "We compare several different models to ensure an optimal fit for the model shown below using likelihood-based and quasi-likelihood based metrics.  We choose the model with best fit but association estimates are similar for all models.  We do not consider transforming any variables to further improve fit to make the model easily interpretable after considering model diagnostics.\n",
    "\n",
    "- Use \"we\" if you are working on a team, \"I\" if you're working alone\n",
    "- I typically avoid passive voice (Poisson regression was used...) in favor of active voice (We/I used Poisson regression..).\n",
    "\n",
    "**Results**\n",
    "\n",
    "- Begin the results with a high-level overview of the data without modeling, e.g. number of rows, columns\n",
    "- Provide table of distribution metrics (mean, standard deviation, or median, IQR)\n",
    "- Because this dataset is small and simple, it may be reasonable to describe in words.\n",
    "- If you need to drop observations because they're not appropriate for your purpose, or missing data, etc, a diagram is helpful, especially when rows indicate individual data.\n",
    "- Graphics are often very powerful for communicating ideas\n",
    "    - there should be a lot of graphics in your appendix to help you understand the data, from these, choose one or two that directly answers the question of interest\n",
    "- Provide a table of regression parameters transformed for easy interpretation, e.g. show exp(beta)\n",
    "    - Model: $E[Y|X=x] = \\exp(\\beta x)$, present $\\exp(\\beta)$, not $\\beta$\n",
    "    - Using delta method, we can also transform the confidence intervals\n",
    "- In words, clearly explain how to interpret the parameters by explaining a couple.\n",
    "- Brief example of results:\n",
    "\n",
    "The full data include 214 daily high and low temperature, precipitation, date, and cyclist count between April 1, 2017 and October 31, 2017 with no missing values for any of these variables.  We use all rows of data for the analysis.\n",
    "\n",
    "The data shows an average (std.) of 2680 (855) crossings.  The average (std.) high and low temperature is 74 (10) and 62 (9) degrees Fahrenheit, respectively.  The average precipitation is 0.13 (0.4), unclear unit in data.\n",
    "\n",
    "To explain day-to-day fluctuations in number of crossings, we look at several models.  Of the models we consider, we choose to report a Poisson regression model allowing for overdispersion.  We chose a Poisson model because of its simplicity to understand and because we are modeling counts within a fixed period of time.  However, it is clear that allowing for overdispersion was necessary to more accurately estimate standard errors due to the high conditional variance compared to the conditional expectation.  Table 1 below provides rate estimates along with 95% confidence intervals and p-values.  The model shows that there is a statistically significant decrease in the number of crossings with precipitation (p<0.001); for each unit increase in precipitation, crossings decrease by a factor of 0.46.  Further, there is a statistically significant increase in number of daily crossings with temperature (p<0.001); for each 10 degree increase in Fahrenheit, on average the number of crossings increase by a factor of 1.28.\n",
    "\n",
    "| Variable | Rate (95% CI) | p-value |\n",
    "| --- | --- | --- |\n",
    "| May vs Apr | 1.10 (0.97, 1.24) | 0.137 |\n",
    "| Jun vs Apr | 1.16 (1.01, 1.33) | 0.040 |\n",
    "| Jul vs Apr | 1.14\t(0.98, 1.32) | 0.097 |\n",
    "| Aug vs Apr | 1.25\t(1.08, 1.43) | 0.002 |\n",
    "| Sep vs Apr | 1.16\t(1.02, 1.32) | 0.027 |\n",
    "| Oct vs Apr | 1.11\t(0.98, 1.25) | 0.094 |\n",
    "| Weekend vs Weekday | 0.89 (0.83, 0.95) | 0.001 |\n",
    "| High Temp (per 10 deg F) | 1.28 (1.20, 1.37) | <0.001 |\n",
    "| Low Temp (per 10 deg F) | 0.83 (0.76, 0.90) | 0.000 |\n",
    "| Day of Month | 1.00 (1.00, 1.00) | 0.697 |\n",
    "| Precipitation | 0.46 (0.40, 0.54) | 0.000 |\n",
    "\n",
    "Table 1: The table above shows rate ratios (and 95% confidence intervals) for the number of cyclists crossing the Brooklyn bridge each day along with p-values for each factor assessed.\n",
    "\n",
    "**Conclusion**\n",
    "\n",
    "- Restate what you attempted to answer\n",
    "- State any potential limitations\n",
    "- Summarize finds for the purpose of the analysis\n",
    "- Brief example:\n",
    "\n",
    "Our purpose for this analysis is to simply explain the daily number of cyclists crossing the Brooklyn Bridge in terms of factors such as temperature and precipitation.  While it seems likely that there may be other external variable that would further improve our models, such as events in the city or subway delays, this model seems characterize crossings well.  That is, precipitation, temperature, and weekdays, for example, are certainly associated, if not contribute to the number of daily crossings."
   ]
  },
  {
   "cell_type": "code",
   "execution_count": null,
   "id": "approved-venice",
   "metadata": {
    "scrolled": true
   },
   "outputs": [],
   "source": [
    "params = pd.DataFrame({'Rate': bikePoisOD.params})\n",
    "ci_table = bikePoisOD.conf_int().rename(columns={0:\"Lower\", 1:\"Upper\"})\n",
    "bike_table = params.join(ci_table).applymap(np.exp).round(2)\n",
    "bike_table['pvalue'] = bikePoisOD.pvalues.round(3)\n",
    "bike_table"
   ]
  },
  {
   "cell_type": "markdown",
   "id": "electronic-mattress",
   "metadata": {},
   "source": [
    "Question: There is always a single best model\n",
    "- a) True\n",
    "- b) False\n",
    "\n",
    "\n",
    "Question: In order to use AIC, I must understand the underlying math\n",
    "- a) True\n",
    "- b) False\n",
    "\n",
    "\n",
    "Check-in: How do you feel about the first assignment?\n",
    "- a) Good, I understand the expectations and I feel that I have the skills to do a good job\n",
    "- b) Unsure, I understand the expectations but I feel that I'm missing some of the skills necessary to do a good job\n",
    "- c) Not good, I am unclear of the expectations"
   ]
  }
 ],
 "metadata": {
  "kernelspec": {
   "display_name": "Python 3",
   "language": "python",
   "name": "python3"
  },
  "language_info": {
   "codemirror_mode": {
    "name": "ipython",
    "version": 3
   },
   "file_extension": ".py",
   "mimetype": "text/x-python",
   "name": "python",
   "nbconvert_exporter": "python",
   "pygments_lexer": "ipython3",
   "version": "3.9.6"
  }
 },
 "nbformat": 4,
 "nbformat_minor": 5
}
